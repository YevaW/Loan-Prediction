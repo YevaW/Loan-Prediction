{
 "cells": [
  {
   "cell_type": "markdown",
   "id": "8c7c8bb9",
   "metadata": {},
   "source": [
    "# Milestones 2"
   ]
  },
  {
   "cell_type": "markdown",
   "id": "2de56093",
   "metadata": {},
   "source": [
    "## Perkenalan"
   ]
  },
  {
   "cell_type": "markdown",
   "id": "d6a6ff74",
   "metadata": {},
   "source": [
    "- Nama : Elita Kabayeva\n",
    "- Batch : 008"
   ]
  },
  {
   "cell_type": "markdown",
   "id": "dfedb453",
   "metadata": {},
   "source": [
    "## Tujuan"
   ]
  },
  {
   "cell_type": "markdown",
   "id": "e32e28c0",
   "metadata": {},
   "source": [
    "Membuat model machine learning untuk prediksi suatu label"
   ]
  },
  {
   "cell_type": "markdown",
   "id": "8ef4afef",
   "metadata": {},
   "source": [
    "## Import Libraries"
   ]
  },
  {
   "cell_type": "markdown",
   "id": "6d655a74",
   "metadata": {},
   "source": [
    "Pertama, saya akan melakukan import libraries yang akan digunakan pada dataset ini:"
   ]
  },
  {
   "cell_type": "code",
   "execution_count": 1,
   "id": "adf2dc87",
   "metadata": {},
   "outputs": [],
   "source": [
    "import warnings\n",
    "warnings.filterwarnings('ignore')\n",
    "\n",
    "import pandas as pd\n",
    "import numpy as np\n",
    "import matplotlib.pyplot as plt\n",
    "import seaborn as sns"
   ]
  },
  {
   "cell_type": "code",
   "execution_count": 2,
   "id": "eb0d0f16",
   "metadata": {},
   "outputs": [
    {
     "data": {
      "text/html": [
       "        <script type=\"text/javascript\">\n",
       "        window.PlotlyConfig = {MathJaxConfig: 'local'};\n",
       "        if (window.MathJax) {MathJax.Hub.Config({SVG: {font: \"STIX-Web\"}});}\n",
       "        if (typeof require !== 'undefined') {\n",
       "        require.undef(\"plotly\");\n",
       "        requirejs.config({\n",
       "            paths: {\n",
       "                'plotly': ['https://cdn.plot.ly/plotly-2.9.0.min']\n",
       "            }\n",
       "        });\n",
       "        require(['plotly'], function(Plotly) {\n",
       "            window._Plotly = Plotly;\n",
       "        });\n",
       "        }\n",
       "        </script>\n",
       "        "
      ]
     },
     "metadata": {},
     "output_type": "display_data"
    }
   ],
   "source": [
    "import sys\n",
    "import os\n",
    "import pandas as pd\n",
    "import numpy as np\n",
    "\n",
    "import matplotlib.pyplot as plt\n",
    "import seaborn as sns\n",
    "from IPython.display import display\n",
    "%matplotlib inline\n",
    "\n",
    "import plotly.offline as py\n",
    "import plotly.graph_objs as go\n",
    "import plotly.tools as tls\n",
    "py.init_notebook_mode(connected=True)\n",
    "\n",
    "import warnings\n",
    "warnings.filterwarnings('ignore')"
   ]
  },
  {
   "cell_type": "markdown",
   "id": "0398c434",
   "metadata": {},
   "source": [
    "## Data Loading"
   ]
  },
  {
   "cell_type": "markdown",
   "id": "17b2c764",
   "metadata": {},
   "source": [
    "Kemudian, saya akan melakukan loading data dan membuat copy dari dataset tersebut sebagai backup:"
   ]
  },
  {
   "cell_type": "code",
   "execution_count": 3,
   "id": "7605ce86",
   "metadata": {},
   "outputs": [],
   "source": [
    "data = pd.read_csv('train_u6lujuX_CVtuZ9i.csv')\n",
    "data_ori = data.copy"
   ]
  },
  {
   "cell_type": "markdown",
   "id": "3362d2e0",
   "metadata": {},
   "source": [
    "Untuk mendapat gambaran awal dari data, kita melihat shapenya terlebih dahulu:"
   ]
  },
  {
   "cell_type": "code",
   "execution_count": 4,
   "id": "a8aeda64",
   "metadata": {},
   "outputs": [
    {
     "data": {
      "text/plain": [
       "(614, 13)"
      ]
     },
     "execution_count": 4,
     "metadata": {},
     "output_type": "execute_result"
    }
   ],
   "source": [
    "data.shape"
   ]
  },
  {
   "cell_type": "markdown",
   "id": "1b128201",
   "metadata": {},
   "source": [
    "Lalu print 5 data pertama"
   ]
  },
  {
   "cell_type": "code",
   "execution_count": 5,
   "id": "50ea2ed9",
   "metadata": {},
   "outputs": [
    {
     "data": {
      "text/html": [
       "<div>\n",
       "<style scoped>\n",
       "    .dataframe tbody tr th:only-of-type {\n",
       "        vertical-align: middle;\n",
       "    }\n",
       "\n",
       "    .dataframe tbody tr th {\n",
       "        vertical-align: top;\n",
       "    }\n",
       "\n",
       "    .dataframe thead th {\n",
       "        text-align: right;\n",
       "    }\n",
       "</style>\n",
       "<table border=\"1\" class=\"dataframe\">\n",
       "  <thead>\n",
       "    <tr style=\"text-align: right;\">\n",
       "      <th></th>\n",
       "      <th>Loan_ID</th>\n",
       "      <th>Gender</th>\n",
       "      <th>Married</th>\n",
       "      <th>Dependents</th>\n",
       "      <th>Education</th>\n",
       "      <th>Self_Employed</th>\n",
       "      <th>ApplicantIncome</th>\n",
       "      <th>CoapplicantIncome</th>\n",
       "      <th>LoanAmount</th>\n",
       "      <th>Loan_Amount_Term</th>\n",
       "      <th>Credit_History</th>\n",
       "      <th>Property_Area</th>\n",
       "      <th>Loan_Status</th>\n",
       "    </tr>\n",
       "  </thead>\n",
       "  <tbody>\n",
       "    <tr>\n",
       "      <th>0</th>\n",
       "      <td>LP001002</td>\n",
       "      <td>Male</td>\n",
       "      <td>No</td>\n",
       "      <td>0</td>\n",
       "      <td>Graduate</td>\n",
       "      <td>No</td>\n",
       "      <td>5849</td>\n",
       "      <td>0.0</td>\n",
       "      <td>NaN</td>\n",
       "      <td>360.0</td>\n",
       "      <td>1.0</td>\n",
       "      <td>Urban</td>\n",
       "      <td>Y</td>\n",
       "    </tr>\n",
       "    <tr>\n",
       "      <th>1</th>\n",
       "      <td>LP001003</td>\n",
       "      <td>Male</td>\n",
       "      <td>Yes</td>\n",
       "      <td>1</td>\n",
       "      <td>Graduate</td>\n",
       "      <td>No</td>\n",
       "      <td>4583</td>\n",
       "      <td>1508.0</td>\n",
       "      <td>128.0</td>\n",
       "      <td>360.0</td>\n",
       "      <td>1.0</td>\n",
       "      <td>Rural</td>\n",
       "      <td>N</td>\n",
       "    </tr>\n",
       "    <tr>\n",
       "      <th>2</th>\n",
       "      <td>LP001005</td>\n",
       "      <td>Male</td>\n",
       "      <td>Yes</td>\n",
       "      <td>0</td>\n",
       "      <td>Graduate</td>\n",
       "      <td>Yes</td>\n",
       "      <td>3000</td>\n",
       "      <td>0.0</td>\n",
       "      <td>66.0</td>\n",
       "      <td>360.0</td>\n",
       "      <td>1.0</td>\n",
       "      <td>Urban</td>\n",
       "      <td>Y</td>\n",
       "    </tr>\n",
       "    <tr>\n",
       "      <th>3</th>\n",
       "      <td>LP001006</td>\n",
       "      <td>Male</td>\n",
       "      <td>Yes</td>\n",
       "      <td>0</td>\n",
       "      <td>Not Graduate</td>\n",
       "      <td>No</td>\n",
       "      <td>2583</td>\n",
       "      <td>2358.0</td>\n",
       "      <td>120.0</td>\n",
       "      <td>360.0</td>\n",
       "      <td>1.0</td>\n",
       "      <td>Urban</td>\n",
       "      <td>Y</td>\n",
       "    </tr>\n",
       "    <tr>\n",
       "      <th>4</th>\n",
       "      <td>LP001008</td>\n",
       "      <td>Male</td>\n",
       "      <td>No</td>\n",
       "      <td>0</td>\n",
       "      <td>Graduate</td>\n",
       "      <td>No</td>\n",
       "      <td>6000</td>\n",
       "      <td>0.0</td>\n",
       "      <td>141.0</td>\n",
       "      <td>360.0</td>\n",
       "      <td>1.0</td>\n",
       "      <td>Urban</td>\n",
       "      <td>Y</td>\n",
       "    </tr>\n",
       "  </tbody>\n",
       "</table>\n",
       "</div>"
      ],
      "text/plain": [
       "    Loan_ID Gender Married Dependents     Education Self_Employed  \\\n",
       "0  LP001002   Male      No          0      Graduate            No   \n",
       "1  LP001003   Male     Yes          1      Graduate            No   \n",
       "2  LP001005   Male     Yes          0      Graduate           Yes   \n",
       "3  LP001006   Male     Yes          0  Not Graduate            No   \n",
       "4  LP001008   Male      No          0      Graduate            No   \n",
       "\n",
       "   ApplicantIncome  CoapplicantIncome  LoanAmount  Loan_Amount_Term  \\\n",
       "0             5849                0.0         NaN             360.0   \n",
       "1             4583             1508.0       128.0             360.0   \n",
       "2             3000                0.0        66.0             360.0   \n",
       "3             2583             2358.0       120.0             360.0   \n",
       "4             6000                0.0       141.0             360.0   \n",
       "\n",
       "   Credit_History Property_Area Loan_Status  \n",
       "0             1.0         Urban           Y  \n",
       "1             1.0         Rural           N  \n",
       "2             1.0         Urban           Y  \n",
       "3             1.0         Urban           Y  \n",
       "4             1.0         Urban           Y  "
      ]
     },
     "execution_count": 5,
     "metadata": {},
     "output_type": "execute_result"
    }
   ],
   "source": [
    "data.head()"
   ]
  },
  {
   "cell_type": "markdown",
   "id": "e3c1b63d",
   "metadata": {},
   "source": [
    "Kemudian saya menggunakan data info untuk melihat kolom yang ada pada dataset ini:"
   ]
  },
  {
   "cell_type": "code",
   "execution_count": 6,
   "id": "2e5d3204",
   "metadata": {},
   "outputs": [
    {
     "name": "stdout",
     "output_type": "stream",
     "text": [
      "<class 'pandas.core.frame.DataFrame'>\n",
      "RangeIndex: 614 entries, 0 to 613\n",
      "Data columns (total 13 columns):\n",
      " #   Column             Non-Null Count  Dtype  \n",
      "---  ------             --------------  -----  \n",
      " 0   Loan_ID            614 non-null    object \n",
      " 1   Gender             601 non-null    object \n",
      " 2   Married            611 non-null    object \n",
      " 3   Dependents         599 non-null    object \n",
      " 4   Education          614 non-null    object \n",
      " 5   Self_Employed      582 non-null    object \n",
      " 6   ApplicantIncome    614 non-null    int64  \n",
      " 7   CoapplicantIncome  614 non-null    float64\n",
      " 8   LoanAmount         592 non-null    float64\n",
      " 9   Loan_Amount_Term   600 non-null    float64\n",
      " 10  Credit_History     564 non-null    float64\n",
      " 11  Property_Area      614 non-null    object \n",
      " 12  Loan_Status        614 non-null    object \n",
      "dtypes: float64(4), int64(1), object(8)\n",
      "memory usage: 62.5+ KB\n"
     ]
    }
   ],
   "source": [
    "data.info()"
   ]
  },
  {
   "cell_type": "markdown",
   "id": "faa754e8",
   "metadata": {},
   "source": [
    "Setelah itu menggunakan percent missing, saya melihat persebaran missing values pada dataset ini:"
   ]
  },
  {
   "cell_type": "code",
   "execution_count": 7,
   "id": "bd6a6fd4",
   "metadata": {},
   "outputs": [
    {
     "data": {
      "text/html": [
       "<div>\n",
       "<style scoped>\n",
       "    .dataframe tbody tr th:only-of-type {\n",
       "        vertical-align: middle;\n",
       "    }\n",
       "\n",
       "    .dataframe tbody tr th {\n",
       "        vertical-align: top;\n",
       "    }\n",
       "\n",
       "    .dataframe thead th {\n",
       "        text-align: right;\n",
       "    }\n",
       "</style>\n",
       "<table border=\"1\" class=\"dataframe\">\n",
       "  <thead>\n",
       "    <tr style=\"text-align: right;\">\n",
       "      <th></th>\n",
       "      <th>column_name</th>\n",
       "      <th>percent_missing</th>\n",
       "    </tr>\n",
       "  </thead>\n",
       "  <tbody>\n",
       "    <tr>\n",
       "      <th>Credit_History</th>\n",
       "      <td>Credit_History</td>\n",
       "      <td>8.14</td>\n",
       "    </tr>\n",
       "    <tr>\n",
       "      <th>Self_Employed</th>\n",
       "      <td>Self_Employed</td>\n",
       "      <td>5.21</td>\n",
       "    </tr>\n",
       "    <tr>\n",
       "      <th>LoanAmount</th>\n",
       "      <td>LoanAmount</td>\n",
       "      <td>3.58</td>\n",
       "    </tr>\n",
       "    <tr>\n",
       "      <th>Dependents</th>\n",
       "      <td>Dependents</td>\n",
       "      <td>2.44</td>\n",
       "    </tr>\n",
       "    <tr>\n",
       "      <th>Loan_Amount_Term</th>\n",
       "      <td>Loan_Amount_Term</td>\n",
       "      <td>2.28</td>\n",
       "    </tr>\n",
       "    <tr>\n",
       "      <th>Gender</th>\n",
       "      <td>Gender</td>\n",
       "      <td>2.12</td>\n",
       "    </tr>\n",
       "    <tr>\n",
       "      <th>Married</th>\n",
       "      <td>Married</td>\n",
       "      <td>0.49</td>\n",
       "    </tr>\n",
       "    <tr>\n",
       "      <th>Loan_ID</th>\n",
       "      <td>Loan_ID</td>\n",
       "      <td>0.00</td>\n",
       "    </tr>\n",
       "    <tr>\n",
       "      <th>Education</th>\n",
       "      <td>Education</td>\n",
       "      <td>0.00</td>\n",
       "    </tr>\n",
       "    <tr>\n",
       "      <th>ApplicantIncome</th>\n",
       "      <td>ApplicantIncome</td>\n",
       "      <td>0.00</td>\n",
       "    </tr>\n",
       "    <tr>\n",
       "      <th>CoapplicantIncome</th>\n",
       "      <td>CoapplicantIncome</td>\n",
       "      <td>0.00</td>\n",
       "    </tr>\n",
       "    <tr>\n",
       "      <th>Property_Area</th>\n",
       "      <td>Property_Area</td>\n",
       "      <td>0.00</td>\n",
       "    </tr>\n",
       "    <tr>\n",
       "      <th>Loan_Status</th>\n",
       "      <td>Loan_Status</td>\n",
       "      <td>0.00</td>\n",
       "    </tr>\n",
       "  </tbody>\n",
       "</table>\n",
       "</div>"
      ],
      "text/plain": [
       "                         column_name  percent_missing\n",
       "Credit_History        Credit_History             8.14\n",
       "Self_Employed          Self_Employed             5.21\n",
       "LoanAmount                LoanAmount             3.58\n",
       "Dependents                Dependents             2.44\n",
       "Loan_Amount_Term    Loan_Amount_Term             2.28\n",
       "Gender                        Gender             2.12\n",
       "Married                      Married             0.49\n",
       "Loan_ID                      Loan_ID             0.00\n",
       "Education                  Education             0.00\n",
       "ApplicantIncome      ApplicantIncome             0.00\n",
       "CoapplicantIncome  CoapplicantIncome             0.00\n",
       "Property_Area          Property_Area             0.00\n",
       "Loan_Status              Loan_Status             0.00"
      ]
     },
     "execution_count": 7,
     "metadata": {},
     "output_type": "execute_result"
    }
   ],
   "source": [
    "percent_missing = (data.isnull().sum() * 100 / len(data)).round(2)\n",
    "missing_value_data = pd.DataFrame({'column_name': data.columns,\n",
    "                                 'percent_missing': percent_missing})\n",
    "missing_value_data.sort_values('percent_missing', ascending=False, inplace=True)\n",
    "missing_value_data"
   ]
  },
  {
   "cell_type": "markdown",
   "id": "d00cda02",
   "metadata": {},
   "source": [
    "Lalu untuk melihat outliers dan persebaran statistiknya saya menggunakan data describe"
   ]
  },
  {
   "cell_type": "code",
   "execution_count": 8,
   "id": "2d6ddece",
   "metadata": {},
   "outputs": [
    {
     "data": {
      "text/html": [
       "<div>\n",
       "<style scoped>\n",
       "    .dataframe tbody tr th:only-of-type {\n",
       "        vertical-align: middle;\n",
       "    }\n",
       "\n",
       "    .dataframe tbody tr th {\n",
       "        vertical-align: top;\n",
       "    }\n",
       "\n",
       "    .dataframe thead th {\n",
       "        text-align: right;\n",
       "    }\n",
       "</style>\n",
       "<table border=\"1\" class=\"dataframe\">\n",
       "  <thead>\n",
       "    <tr style=\"text-align: right;\">\n",
       "      <th></th>\n",
       "      <th>count</th>\n",
       "      <th>mean</th>\n",
       "      <th>std</th>\n",
       "      <th>min</th>\n",
       "      <th>25%</th>\n",
       "      <th>50%</th>\n",
       "      <th>75%</th>\n",
       "      <th>max</th>\n",
       "    </tr>\n",
       "  </thead>\n",
       "  <tbody>\n",
       "    <tr>\n",
       "      <th>ApplicantIncome</th>\n",
       "      <td>614.0</td>\n",
       "      <td>5403.459283</td>\n",
       "      <td>6109.041673</td>\n",
       "      <td>150.0</td>\n",
       "      <td>2877.5</td>\n",
       "      <td>3812.5</td>\n",
       "      <td>5795.00</td>\n",
       "      <td>81000.0</td>\n",
       "    </tr>\n",
       "    <tr>\n",
       "      <th>CoapplicantIncome</th>\n",
       "      <td>614.0</td>\n",
       "      <td>1621.245798</td>\n",
       "      <td>2926.248369</td>\n",
       "      <td>0.0</td>\n",
       "      <td>0.0</td>\n",
       "      <td>1188.5</td>\n",
       "      <td>2297.25</td>\n",
       "      <td>41667.0</td>\n",
       "    </tr>\n",
       "    <tr>\n",
       "      <th>LoanAmount</th>\n",
       "      <td>592.0</td>\n",
       "      <td>146.412162</td>\n",
       "      <td>85.587325</td>\n",
       "      <td>9.0</td>\n",
       "      <td>100.0</td>\n",
       "      <td>128.0</td>\n",
       "      <td>168.00</td>\n",
       "      <td>700.0</td>\n",
       "    </tr>\n",
       "    <tr>\n",
       "      <th>Loan_Amount_Term</th>\n",
       "      <td>600.0</td>\n",
       "      <td>342.000000</td>\n",
       "      <td>65.120410</td>\n",
       "      <td>12.0</td>\n",
       "      <td>360.0</td>\n",
       "      <td>360.0</td>\n",
       "      <td>360.00</td>\n",
       "      <td>480.0</td>\n",
       "    </tr>\n",
       "    <tr>\n",
       "      <th>Credit_History</th>\n",
       "      <td>564.0</td>\n",
       "      <td>0.842199</td>\n",
       "      <td>0.364878</td>\n",
       "      <td>0.0</td>\n",
       "      <td>1.0</td>\n",
       "      <td>1.0</td>\n",
       "      <td>1.00</td>\n",
       "      <td>1.0</td>\n",
       "    </tr>\n",
       "  </tbody>\n",
       "</table>\n",
       "</div>"
      ],
      "text/plain": [
       "                   count         mean          std    min     25%     50%  \\\n",
       "ApplicantIncome    614.0  5403.459283  6109.041673  150.0  2877.5  3812.5   \n",
       "CoapplicantIncome  614.0  1621.245798  2926.248369    0.0     0.0  1188.5   \n",
       "LoanAmount         592.0   146.412162    85.587325    9.0   100.0   128.0   \n",
       "Loan_Amount_Term   600.0   342.000000    65.120410   12.0   360.0   360.0   \n",
       "Credit_History     564.0     0.842199     0.364878    0.0     1.0     1.0   \n",
       "\n",
       "                       75%      max  \n",
       "ApplicantIncome    5795.00  81000.0  \n",
       "CoapplicantIncome  2297.25  41667.0  \n",
       "LoanAmount          168.00    700.0  \n",
       "Loan_Amount_Term    360.00    480.0  \n",
       "Credit_History        1.00      1.0  "
      ]
     },
     "execution_count": 8,
     "metadata": {},
     "output_type": "execute_result"
    }
   ],
   "source": [
    "data.describe().T"
   ]
  },
  {
   "cell_type": "markdown",
   "id": "05b6882d",
   "metadata": {},
   "source": [
    "## Preliminary Data Analysis"
   ]
  },
  {
   "cell_type": "code",
   "execution_count": 9,
   "id": "116af9ff",
   "metadata": {},
   "outputs": [],
   "source": [
    "def unique_values(df):\n",
    "    print(\"unique values\\n\")\n",
    "    for col in df.columns:\n",
    "        if df[col].dtypes=='object':\n",
    "            if len(df[col].unique())>5:\n",
    "                print('{:>15s} \\t more than 5 unique'.format(col))\n",
    "            else:\n",
    "                print('{:>15s} \\t {}'.format(col,df[col].unique()))\n"
   ]
  },
  {
   "cell_type": "code",
   "execution_count": 10,
   "id": "acec3981",
   "metadata": {},
   "outputs": [
    {
     "name": "stdout",
     "output_type": "stream",
     "text": [
      "unique values\n",
      "\n",
      "        Loan_ID \t more than 5 unique\n",
      "         Gender \t ['Male' 'Female' nan]\n",
      "        Married \t ['No' 'Yes' nan]\n",
      "     Dependents \t ['0' '1' '2' '3+' nan]\n",
      "      Education \t ['Graduate' 'Not Graduate']\n",
      "  Self_Employed \t ['No' 'Yes' nan]\n",
      "  Property_Area \t ['Urban' 'Rural' 'Semiurban']\n",
      "    Loan_Status \t ['Y' 'N']\n"
     ]
    }
   ],
   "source": [
    "unique_values(data)"
   ]
  },
  {
   "cell_type": "code",
   "execution_count": 11,
   "id": "202a8f05",
   "metadata": {},
   "outputs": [
    {
     "name": "stdout",
     "output_type": "stream",
     "text": [
      "Duplicate Records in Dataset : 0\n"
     ]
    }
   ],
   "source": [
    "print(\"Duplicate Records in Dataset : {}\".format(data.duplicated().sum()))"
   ]
  },
  {
   "cell_type": "code",
   "execution_count": 12,
   "id": "32ebc115",
   "metadata": {},
   "outputs": [
    {
     "name": "stdout",
     "output_type": "stream",
     "text": [
      "Loan OK vs not OK 45.50%\n"
     ]
    }
   ],
   "source": [
    "Approved = len(data[data['Loan_Status']=='Y'])\n",
    "Rejected = len(data[data['Loan_Status']=='N'])\n",
    "\n",
    "print(\"Loan OK vs not OK {:>3.2f}%\".format(Rejected/Approved*100))"
   ]
  },
  {
   "cell_type": "markdown",
   "id": "6385b936",
   "metadata": {},
   "source": [
    "## Exploratory Data Analysis "
   ]
  },
  {
   "cell_type": "code",
   "execution_count": 13,
   "id": "69a9866d",
   "metadata": {
    "scrolled": false
   },
   "outputs": [
    {
     "data": {
      "image/png": "[encoded data removed]",
      "text/plain": [
       "<Figure size 2160x360 with 1 Axes>"
      ]
     },
     "metadata": {
      "needs_background": "light"
     },
     "output_type": "display_data"
    },
    {
     "data": {
      "image/png": "[encoded data removed]",
      "text/plain": [
       "<Figure size 2160x360 with 1 Axes>"
      ]
     },
     "metadata": {
      "needs_background": "light"
     },
     "output_type": "display_data"
    },
    {
     "data": {
      "image/png": "[encoded data removed]",
      "text/plain": [
       "<Figure size 2160x360 with 1 Axes>"
      ]
     },
     "metadata": {
      "needs_background": "light"
     },
     "output_type": "display_data"
    },
    {
     "data": {
      "image/png": "[encoded data removed]",
      "text/plain": [
       "<Figure size 2160x360 with 1 Axes>"
      ]
     },
     "metadata": {
      "needs_background": "light"
     },
     "output_type": "display_data"
    },
    {
     "data": {
      "image/png": "[encoded data removed]",
      "text/plain": [
       "<Figure size 2160x360 with 1 Axes>"
      ]
     },
     "metadata": {
      "needs_background": "light"
     },
     "output_type": "display_data"
    },
    {
     "data": {
      "image/png": "[encoded data removed]",
      "text/plain": [
       "<Figure size 2160x360 with 1 Axes>"
      ]
     },
     "metadata": {
      "needs_background": "light"
     },
     "output_type": "display_data"
    },
    {
     "data": {
      "image/png": "[encoded data removed]",
      "text/plain": [
       "<Figure size 2160x360 with 1 Axes>"
      ]
     },
     "metadata": {
      "needs_background": "light"
     },
     "output_type": "display_data"
    },
    {
     "data": {
      "image/png": "[encoded data removed]",
      "text/plain": [
       "<Figure size 2160x360 with 1 Axes>"
      ]
     },
     "metadata": {
      "needs_background": "light"
     },
     "output_type": "display_data"
    },
    {
     "data": {
      "image/png": "[encoded data removed]",
      "text/plain": [
       "<Figure size 2160x360 with 1 Axes>"
      ]
     },
     "metadata": {
      "needs_background": "light"
     },
     "output_type": "display_data"
    },
    {
     "data": {
      "image/png": "[encoded data removed]",
      "text/plain": [
       "<Figure size 2160x360 with 1 Axes>"
      ]
     },
     "metadata": {
      "needs_background": "light"
     },
     "output_type": "display_data"
    },
    {
     "data": {
      "image/png": "[encoded data removed]",
      "text/plain": [
       "<Figure size 2160x360 with 1 Axes>"
      ]
     },
     "metadata": {
      "needs_background": "light"
     },
     "output_type": "display_data"
    },
    {
     "data": {
      "image/png": "[encoded data removed]",
      "text/plain": [
       "<Figure size 2160x360 with 1 Axes>"
      ]
     },
     "metadata": {
      "needs_background": "light"
     },
     "output_type": "display_data"
    },
    {
     "data": {
      "image/png": "[encoded data removed]",
      "text/plain": [
       "<Figure size 2160x360 with 1 Axes>"
      ]
     },
     "metadata": {
      "needs_background": "light"
     },
     "output_type": "display_data"
    }
   ],
   "source": [
    "for column in data.columns:\n",
    "    plt.figure(figsize = (30,5))\n",
    "    sns.histplot(data[column])\n",
    "    plt.show()"
   ]
  },
  {
   "cell_type": "code",
   "execution_count": 14,
   "id": "f8123b48",
   "metadata": {},
   "outputs": [
    {
     "data": {
      "image/png": "[encoded data removed]",
      "text/plain": [
       "<Figure size 1152x1296 with 6 Axes>"
      ]
     },
     "metadata": {
      "needs_background": "light"
     },
     "output_type": "display_data"
    }
   ],
   "source": [
    "# Bar charts to get a high level view of categorical data\n",
    "\n",
    "fig, ax = plt.subplots(3, 2, figsize=(16, 18))\n",
    "\n",
    "data.groupby(['Gender'])[['Gender']].count().plot.bar(\n",
    "    color=plt.cm.Paired(np.arange(len(data))), ax=ax[0,0])\n",
    "data.groupby(['Married'])[['Married']].count().plot.bar(\n",
    "    color=plt.cm.Paired(np.arange(len(data))), ax=ax[0,1])\n",
    "data.groupby(['Education'])[['Education']].count().plot.bar(\n",
    "    color=plt.cm.Paired(np.arange(len(data))), ax=ax[1,0])\n",
    "data.groupby(['Self_Employed'])[['Self_Employed']].count().plot.bar(\n",
    "    color=plt.cm.Paired(np.arange(len(data))), ax=ax[1,1])\n",
    "\n",
    "data.groupby(['Loan_Status'])[['Loan_Status']].count().plot.bar(\n",
    "    color=plt.cm.Paired(np.arange(len(data))),ax=ax[2,0])\n",
    "data.groupby(['Property_Area'])[['Loan_Status']].count().plot.bar(\n",
    "    color=plt.cm.Paired(np.arange(len(data))),ax=ax[2,1])\n",
    "\n",
    "plt.show()"
   ]
  },
  {
   "cell_type": "code",
   "execution_count": 15,
   "id": "4d1e0b12",
   "metadata": {},
   "outputs": [
    {
     "data": {
      "text/plain": [
       "<AxesSubplot:xlabel='Credit_History'>"
      ]
     },
     "execution_count": 15,
     "metadata": {},
     "output_type": "execute_result"
    },
    {
     "data": {
      "image/png": "[encoded data removed]",
      "text/plain": [
       "<Figure size 432x288 with 1 Axes>"
      ]
     },
     "metadata": {
      "needs_background": "light"
     },
     "output_type": "display_data"
    }
   ],
   "source": [
    "lc = pd.crosstab(data['Credit_History'], data['Loan_Status'])\n",
    "lc.plot(kind='bar', stacked=True, color=['red','blue'], grid=False)"
   ]
  },
  {
   "cell_type": "code",
   "execution_count": 16,
   "id": "29abb152",
   "metadata": {},
   "outputs": [],
   "source": [
    "# Here, I pass all categorical columns into a list\n",
    "\n",
    "categorical_columns = data.select_dtypes('object').columns.to_list()"
   ]
  },
  {
   "cell_type": "code",
   "execution_count": 17,
   "id": "3ade4311",
   "metadata": {},
   "outputs": [
    {
     "data": {
      "image/png": "[encoded data removed]",
      "text/plain": [
       "<Figure size 1080x720 with 1 Axes>"
      ]
     },
     "metadata": {
      "needs_background": "light"
     },
     "output_type": "display_data"
    },
    {
     "data": {
      "image/png": "[encoded data removed]",
      "text/plain": [
       "<Figure size 1080x720 with 1 Axes>"
      ]
     },
     "metadata": {
      "needs_background": "light"
     },
     "output_type": "display_data"
    },
    {
     "data": {
      "image/png": "[encoded data removed]",
      "text/plain": [
       "<Figure size 1080x720 with 1 Axes>"
      ]
     },
     "metadata": {
      "needs_background": "light"
     },
     "output_type": "display_data"
    },
    {
     "data": {
      "image/png": "[encoded data removed]",
      "text/plain": [
       "<Figure size 1080x720 with 1 Axes>"
      ]
     },
     "metadata": {
      "needs_background": "light"
     },
     "output_type": "display_data"
    },
    {
     "data": {
      "image/png": "[encoded data removed]",
      "text/plain": [
       "<Figure size 1080x720 with 1 Axes>"
      ]
     },
     "metadata": {
      "needs_background": "light"
     },
     "output_type": "display_data"
    },
    {
     "data": {
      "image/png": "[encoded data removed]",
      "text/plain": [
       "<Figure size 1080x720 with 1 Axes>"
      ]
     },
     "metadata": {
      "needs_background": "light"
     },
     "output_type": "display_data"
    },
    {
     "data": {
      "image/png": "[encoded data removed]",
      "text/plain": [
       "<Figure size 1080x720 with 1 Axes>"
      ]
     },
     "metadata": {
      "needs_background": "light"
     },
     "output_type": "display_data"
    }
   ],
   "source": [
    "# This code loops through the list, and creates a chart for each\n",
    "\n",
    "for i in categorical_columns[1:]: \n",
    "    plt.figure(figsize=(15,10))\n",
    "    plt.subplot(3,2,1)\n",
    "    sns.countplot(x=i ,hue='Loan_Status', data=data, palette='ocean')\n",
    "    plt.xlabel(i, fontsize=14)"
   ]
  },
  {
   "cell_type": "markdown",
   "id": "d5619742",
   "metadata": {},
   "source": [
    "### Feature Engineering"
   ]
  },
  {
   "cell_type": "code",
   "execution_count": 18,
   "id": "b911ce12",
   "metadata": {},
   "outputs": [
    {
     "data": {
      "text/plain": [
       "<bound method IndexOpsMixin.tolist of Index(['Loan_ID', 'Gender', 'Married', 'Dependents', 'Education',\n",
       "       'Self_Employed', 'ApplicantIncome', 'CoapplicantIncome', 'LoanAmount',\n",
       "       'Loan_Amount_Term', 'Credit_History', 'Property_Area', 'Loan_Status'],\n",
       "      dtype='object')>"
      ]
     },
     "execution_count": 18,
     "metadata": {},
     "output_type": "execute_result"
    }
   ],
   "source": [
    "data.columns.tolist"
   ]
  },
  {
   "cell_type": "code",
   "execution_count": 19,
   "id": "91432706",
   "metadata": {},
   "outputs": [],
   "source": [
    "data_used = data.drop(columns=[\"Loan_ID\"])"
   ]
  },
  {
   "cell_type": "markdown",
   "id": "44b118d9",
   "metadata": {},
   "source": [
    "### Split Dataset"
   ]
  },
  {
   "cell_type": "code",
   "execution_count": 20,
   "id": "a1132e31",
   "metadata": {},
   "outputs": [
    {
     "data": {
      "text/html": [
       "<div>\n",
       "<style scoped>\n",
       "    .dataframe tbody tr th:only-of-type {\n",
       "        vertical-align: middle;\n",
       "    }\n",
       "\n",
       "    .dataframe tbody tr th {\n",
       "        vertical-align: top;\n",
       "    }\n",
       "\n",
       "    .dataframe thead th {\n",
       "        text-align: right;\n",
       "    }\n",
       "</style>\n",
       "<table border=\"1\" class=\"dataframe\">\n",
       "  <thead>\n",
       "    <tr style=\"text-align: right;\">\n",
       "      <th></th>\n",
       "      <th>Gender</th>\n",
       "      <th>Married</th>\n",
       "      <th>Dependents</th>\n",
       "      <th>Education</th>\n",
       "      <th>Self_Employed</th>\n",
       "      <th>ApplicantIncome</th>\n",
       "      <th>CoapplicantIncome</th>\n",
       "      <th>LoanAmount</th>\n",
       "      <th>Loan_Amount_Term</th>\n",
       "      <th>Credit_History</th>\n",
       "      <th>Property_Area</th>\n",
       "    </tr>\n",
       "  </thead>\n",
       "  <tbody>\n",
       "    <tr>\n",
       "      <th>0</th>\n",
       "      <td>Male</td>\n",
       "      <td>No</td>\n",
       "      <td>0</td>\n",
       "      <td>Graduate</td>\n",
       "      <td>No</td>\n",
       "      <td>5849</td>\n",
       "      <td>0.0</td>\n",
       "      <td>NaN</td>\n",
       "      <td>360.0</td>\n",
       "      <td>1.0</td>\n",
       "      <td>Urban</td>\n",
       "    </tr>\n",
       "    <tr>\n",
       "      <th>1</th>\n",
       "      <td>Male</td>\n",
       "      <td>Yes</td>\n",
       "      <td>1</td>\n",
       "      <td>Graduate</td>\n",
       "      <td>No</td>\n",
       "      <td>4583</td>\n",
       "      <td>1508.0</td>\n",
       "      <td>128.0</td>\n",
       "      <td>360.0</td>\n",
       "      <td>1.0</td>\n",
       "      <td>Rural</td>\n",
       "    </tr>\n",
       "    <tr>\n",
       "      <th>2</th>\n",
       "      <td>Male</td>\n",
       "      <td>Yes</td>\n",
       "      <td>0</td>\n",
       "      <td>Graduate</td>\n",
       "      <td>Yes</td>\n",
       "      <td>3000</td>\n",
       "      <td>0.0</td>\n",
       "      <td>66.0</td>\n",
       "      <td>360.0</td>\n",
       "      <td>1.0</td>\n",
       "      <td>Urban</td>\n",
       "    </tr>\n",
       "    <tr>\n",
       "      <th>3</th>\n",
       "      <td>Male</td>\n",
       "      <td>Yes</td>\n",
       "      <td>0</td>\n",
       "      <td>Not Graduate</td>\n",
       "      <td>No</td>\n",
       "      <td>2583</td>\n",
       "      <td>2358.0</td>\n",
       "      <td>120.0</td>\n",
       "      <td>360.0</td>\n",
       "      <td>1.0</td>\n",
       "      <td>Urban</td>\n",
       "    </tr>\n",
       "    <tr>\n",
       "      <th>4</th>\n",
       "      <td>Male</td>\n",
       "      <td>No</td>\n",
       "      <td>0</td>\n",
       "      <td>Graduate</td>\n",
       "      <td>No</td>\n",
       "      <td>6000</td>\n",
       "      <td>0.0</td>\n",
       "      <td>141.0</td>\n",
       "      <td>360.0</td>\n",
       "      <td>1.0</td>\n",
       "      <td>Urban</td>\n",
       "    </tr>\n",
       "    <tr>\n",
       "      <th>...</th>\n",
       "      <td>...</td>\n",
       "      <td>...</td>\n",
       "      <td>...</td>\n",
       "      <td>...</td>\n",
       "      <td>...</td>\n",
       "      <td>...</td>\n",
       "      <td>...</td>\n",
       "      <td>...</td>\n",
       "      <td>...</td>\n",
       "      <td>...</td>\n",
       "      <td>...</td>\n",
       "    </tr>\n",
       "    <tr>\n",
       "      <th>609</th>\n",
       "      <td>Female</td>\n",
       "      <td>No</td>\n",
       "      <td>0</td>\n",
       "      <td>Graduate</td>\n",
       "      <td>No</td>\n",
       "      <td>2900</td>\n",
       "      <td>0.0</td>\n",
       "      <td>71.0</td>\n",
       "      <td>360.0</td>\n",
       "      <td>1.0</td>\n",
       "      <td>Rural</td>\n",
       "    </tr>\n",
       "    <tr>\n",
       "      <th>610</th>\n",
       "      <td>Male</td>\n",
       "      <td>Yes</td>\n",
       "      <td>3+</td>\n",
       "      <td>Graduate</td>\n",
       "      <td>No</td>\n",
       "      <td>4106</td>\n",
       "      <td>0.0</td>\n",
       "      <td>40.0</td>\n",
       "      <td>180.0</td>\n",
       "      <td>1.0</td>\n",
       "      <td>Rural</td>\n",
       "    </tr>\n",
       "    <tr>\n",
       "      <th>611</th>\n",
       "      <td>Male</td>\n",
       "      <td>Yes</td>\n",
       "      <td>1</td>\n",
       "      <td>Graduate</td>\n",
       "      <td>No</td>\n",
       "      <td>8072</td>\n",
       "      <td>240.0</td>\n",
       "      <td>253.0</td>\n",
       "      <td>360.0</td>\n",
       "      <td>1.0</td>\n",
       "      <td>Urban</td>\n",
       "    </tr>\n",
       "    <tr>\n",
       "      <th>612</th>\n",
       "      <td>Male</td>\n",
       "      <td>Yes</td>\n",
       "      <td>2</td>\n",
       "      <td>Graduate</td>\n",
       "      <td>No</td>\n",
       "      <td>7583</td>\n",
       "      <td>0.0</td>\n",
       "      <td>187.0</td>\n",
       "      <td>360.0</td>\n",
       "      <td>1.0</td>\n",
       "      <td>Urban</td>\n",
       "    </tr>\n",
       "    <tr>\n",
       "      <th>613</th>\n",
       "      <td>Female</td>\n",
       "      <td>No</td>\n",
       "      <td>0</td>\n",
       "      <td>Graduate</td>\n",
       "      <td>Yes</td>\n",
       "      <td>4583</td>\n",
       "      <td>0.0</td>\n",
       "      <td>133.0</td>\n",
       "      <td>360.0</td>\n",
       "      <td>0.0</td>\n",
       "      <td>Semiurban</td>\n",
       "    </tr>\n",
       "  </tbody>\n",
       "</table>\n",
       "<p>614 rows × 11 columns</p>\n",
       "</div>"
      ],
      "text/plain": [
       "     Gender Married Dependents     Education Self_Employed  ApplicantIncome  \\\n",
       "0      Male      No          0      Graduate            No             5849   \n",
       "1      Male     Yes          1      Graduate            No             4583   \n",
       "2      Male     Yes          0      Graduate           Yes             3000   \n",
       "3      Male     Yes          0  Not Graduate            No             2583   \n",
       "4      Male      No          0      Graduate            No             6000   \n",
       "..      ...     ...        ...           ...           ...              ...   \n",
       "609  Female      No          0      Graduate            No             2900   \n",
       "610    Male     Yes         3+      Graduate            No             4106   \n",
       "611    Male     Yes          1      Graduate            No             8072   \n",
       "612    Male     Yes          2      Graduate            No             7583   \n",
       "613  Female      No          0      Graduate           Yes             4583   \n",
       "\n",
       "     CoapplicantIncome  LoanAmount  Loan_Amount_Term  Credit_History  \\\n",
       "0                  0.0         NaN             360.0             1.0   \n",
       "1               1508.0       128.0             360.0             1.0   \n",
       "2                  0.0        66.0             360.0             1.0   \n",
       "3               2358.0       120.0             360.0             1.0   \n",
       "4                  0.0       141.0             360.0             1.0   \n",
       "..                 ...         ...               ...             ...   \n",
       "609                0.0        71.0             360.0             1.0   \n",
       "610                0.0        40.0             180.0             1.0   \n",
       "611              240.0       253.0             360.0             1.0   \n",
       "612                0.0       187.0             360.0             1.0   \n",
       "613                0.0       133.0             360.0             0.0   \n",
       "\n",
       "    Property_Area  \n",
       "0           Urban  \n",
       "1           Rural  \n",
       "2           Urban  \n",
       "3           Urban  \n",
       "4           Urban  \n",
       "..            ...  \n",
       "609         Rural  \n",
       "610         Rural  \n",
       "611         Urban  \n",
       "612         Urban  \n",
       "613     Semiurban  \n",
       "\n",
       "[614 rows x 11 columns]"
      ]
     },
     "execution_count": 20,
     "metadata": {},
     "output_type": "execute_result"
    }
   ],
   "source": [
    "# define X and Y\n",
    "X = data_used.drop(['Loan_Status'], axis=1)\n",
    "y = data_used['Loan_Status']\n",
    "\n",
    "X"
   ]
  },
  {
   "cell_type": "code",
   "execution_count": 21,
   "id": "2e740240",
   "metadata": {},
   "outputs": [
    {
     "name": "stdout",
     "output_type": "stream",
     "text": [
      "(399, 11)\n",
      "(215, 11)\n"
     ]
    }
   ],
   "source": [
    "from sklearn.model_selection import train_test_split\n",
    "\n",
    "X_train, X_test, y_train, y_test = train_test_split(X, y, test_size = 0.35, random_state = 22, stratify=y)\n",
    "\n",
    "print(X_train.shape)\n",
    "print(X_test.shape)"
   ]
  },
  {
   "cell_type": "markdown",
   "id": "5ad26412",
   "metadata": {},
   "source": [
    "### Handling Missing Values"
   ]
  },
  {
   "cell_type": "code",
   "execution_count": 22,
   "id": "fcfc6ce7",
   "metadata": {},
   "outputs": [
    {
     "data": {
      "text/html": [
       "<div>\n",
       "<style scoped>\n",
       "    .dataframe tbody tr th:only-of-type {\n",
       "        vertical-align: middle;\n",
       "    }\n",
       "\n",
       "    .dataframe tbody tr th {\n",
       "        vertical-align: top;\n",
       "    }\n",
       "\n",
       "    .dataframe thead th {\n",
       "        text-align: right;\n",
       "    }\n",
       "</style>\n",
       "<table border=\"1\" class=\"dataframe\">\n",
       "  <thead>\n",
       "    <tr style=\"text-align: right;\">\n",
       "      <th></th>\n",
       "      <th>column_name</th>\n",
       "      <th>percent_missing</th>\n",
       "    </tr>\n",
       "  </thead>\n",
       "  <tbody>\n",
       "    <tr>\n",
       "      <th>Credit_History</th>\n",
       "      <td>Credit_History</td>\n",
       "      <td>7.02</td>\n",
       "    </tr>\n",
       "    <tr>\n",
       "      <th>Self_Employed</th>\n",
       "      <td>Self_Employed</td>\n",
       "      <td>6.27</td>\n",
       "    </tr>\n",
       "    <tr>\n",
       "      <th>LoanAmount</th>\n",
       "      <td>LoanAmount</td>\n",
       "      <td>2.51</td>\n",
       "    </tr>\n",
       "    <tr>\n",
       "      <th>Gender</th>\n",
       "      <td>Gender</td>\n",
       "      <td>2.01</td>\n",
       "    </tr>\n",
       "    <tr>\n",
       "      <th>Loan_Amount_Term</th>\n",
       "      <td>Loan_Amount_Term</td>\n",
       "      <td>1.75</td>\n",
       "    </tr>\n",
       "    <tr>\n",
       "      <th>Dependents</th>\n",
       "      <td>Dependents</td>\n",
       "      <td>1.50</td>\n",
       "    </tr>\n",
       "    <tr>\n",
       "      <th>Married</th>\n",
       "      <td>Married</td>\n",
       "      <td>0.50</td>\n",
       "    </tr>\n",
       "    <tr>\n",
       "      <th>Education</th>\n",
       "      <td>Education</td>\n",
       "      <td>0.00</td>\n",
       "    </tr>\n",
       "    <tr>\n",
       "      <th>ApplicantIncome</th>\n",
       "      <td>ApplicantIncome</td>\n",
       "      <td>0.00</td>\n",
       "    </tr>\n",
       "    <tr>\n",
       "      <th>CoapplicantIncome</th>\n",
       "      <td>CoapplicantIncome</td>\n",
       "      <td>0.00</td>\n",
       "    </tr>\n",
       "    <tr>\n",
       "      <th>Property_Area</th>\n",
       "      <td>Property_Area</td>\n",
       "      <td>0.00</td>\n",
       "    </tr>\n",
       "  </tbody>\n",
       "</table>\n",
       "</div>"
      ],
      "text/plain": [
       "                         column_name  percent_missing\n",
       "Credit_History        Credit_History             7.02\n",
       "Self_Employed          Self_Employed             6.27\n",
       "LoanAmount                LoanAmount             2.51\n",
       "Gender                        Gender             2.01\n",
       "Loan_Amount_Term    Loan_Amount_Term             1.75\n",
       "Dependents                Dependents             1.50\n",
       "Married                      Married             0.50\n",
       "Education                  Education             0.00\n",
       "ApplicantIncome      ApplicantIncome             0.00\n",
       "CoapplicantIncome  CoapplicantIncome             0.00\n",
       "Property_Area          Property_Area             0.00"
      ]
     },
     "execution_count": 22,
     "metadata": {},
     "output_type": "execute_result"
    }
   ],
   "source": [
    "percent_missing = (X_train.isnull().sum() * 100 / len(X_train)).round(2)\n",
    "missing_value_data = pd.DataFrame({'column_name': X_train.columns,\n",
    "                                 'percent_missing': percent_missing})\n",
    "missing_value_data.sort_values('percent_missing', ascending=False, inplace=True)\n",
    "missing_value_data"
   ]
  },
  {
   "cell_type": "code",
   "execution_count": 23,
   "id": "bbb7511f",
   "metadata": {},
   "outputs": [
    {
     "data": {
      "text/html": [
       "<div>\n",
       "<style scoped>\n",
       "    .dataframe tbody tr th:only-of-type {\n",
       "        vertical-align: middle;\n",
       "    }\n",
       "\n",
       "    .dataframe tbody tr th {\n",
       "        vertical-align: top;\n",
       "    }\n",
       "\n",
       "    .dataframe thead th {\n",
       "        text-align: right;\n",
       "    }\n",
       "</style>\n",
       "<table border=\"1\" class=\"dataframe\">\n",
       "  <thead>\n",
       "    <tr style=\"text-align: right;\">\n",
       "      <th></th>\n",
       "      <th>column_name</th>\n",
       "      <th>percent_missing</th>\n",
       "    </tr>\n",
       "  </thead>\n",
       "  <tbody>\n",
       "    <tr>\n",
       "      <th>Credit_History</th>\n",
       "      <td>Credit_History</td>\n",
       "      <td>10.23</td>\n",
       "    </tr>\n",
       "    <tr>\n",
       "      <th>LoanAmount</th>\n",
       "      <td>LoanAmount</td>\n",
       "      <td>5.58</td>\n",
       "    </tr>\n",
       "    <tr>\n",
       "      <th>Dependents</th>\n",
       "      <td>Dependents</td>\n",
       "      <td>4.19</td>\n",
       "    </tr>\n",
       "    <tr>\n",
       "      <th>Self_Employed</th>\n",
       "      <td>Self_Employed</td>\n",
       "      <td>3.26</td>\n",
       "    </tr>\n",
       "    <tr>\n",
       "      <th>Loan_Amount_Term</th>\n",
       "      <td>Loan_Amount_Term</td>\n",
       "      <td>3.26</td>\n",
       "    </tr>\n",
       "    <tr>\n",
       "      <th>Gender</th>\n",
       "      <td>Gender</td>\n",
       "      <td>2.33</td>\n",
       "    </tr>\n",
       "    <tr>\n",
       "      <th>Married</th>\n",
       "      <td>Married</td>\n",
       "      <td>0.47</td>\n",
       "    </tr>\n",
       "    <tr>\n",
       "      <th>Education</th>\n",
       "      <td>Education</td>\n",
       "      <td>0.00</td>\n",
       "    </tr>\n",
       "    <tr>\n",
       "      <th>ApplicantIncome</th>\n",
       "      <td>ApplicantIncome</td>\n",
       "      <td>0.00</td>\n",
       "    </tr>\n",
       "    <tr>\n",
       "      <th>CoapplicantIncome</th>\n",
       "      <td>CoapplicantIncome</td>\n",
       "      <td>0.00</td>\n",
       "    </tr>\n",
       "    <tr>\n",
       "      <th>Property_Area</th>\n",
       "      <td>Property_Area</td>\n",
       "      <td>0.00</td>\n",
       "    </tr>\n",
       "  </tbody>\n",
       "</table>\n",
       "</div>"
      ],
      "text/plain": [
       "                         column_name  percent_missing\n",
       "Credit_History        Credit_History            10.23\n",
       "LoanAmount                LoanAmount             5.58\n",
       "Dependents                Dependents             4.19\n",
       "Self_Employed          Self_Employed             3.26\n",
       "Loan_Amount_Term    Loan_Amount_Term             3.26\n",
       "Gender                        Gender             2.33\n",
       "Married                      Married             0.47\n",
       "Education                  Education             0.00\n",
       "ApplicantIncome      ApplicantIncome             0.00\n",
       "CoapplicantIncome  CoapplicantIncome             0.00\n",
       "Property_Area          Property_Area             0.00"
      ]
     },
     "execution_count": 23,
     "metadata": {},
     "output_type": "execute_result"
    }
   ],
   "source": [
    "percent_missing = (X_test.isnull().sum() * 100 / len(X_test)).round(2)\n",
    "missing_value_data = pd.DataFrame({'column_name': X_test.columns,\n",
    "                                 'percent_missing': percent_missing})\n",
    "missing_value_data.sort_values('percent_missing', ascending=False, inplace=True)\n",
    "missing_value_data"
   ]
  },
  {
   "cell_type": "markdown",
   "id": "7e8beb0a",
   "metadata": {},
   "source": [
    "Credit_History (float), LoanAmount(float), Dependents (obj), Self_Employed(obj), Loan_Amount_Term(float), Gender(obj), Married(obj)"
   ]
  },
  {
   "cell_type": "code",
   "execution_count": 24,
   "id": "067aee02",
   "metadata": {},
   "outputs": [
    {
     "name": "stdout",
     "output_type": "stream",
     "text": [
      "<class 'pandas.core.frame.DataFrame'>\n",
      "Int64Index: 399 entries, 510 to 222\n",
      "Data columns (total 11 columns):\n",
      " #   Column             Non-Null Count  Dtype  \n",
      "---  ------             --------------  -----  \n",
      " 0   Gender             391 non-null    object \n",
      " 1   Married            397 non-null    object \n",
      " 2   Dependents         393 non-null    object \n",
      " 3   Education          399 non-null    object \n",
      " 4   Self_Employed      374 non-null    object \n",
      " 5   ApplicantIncome    399 non-null    int64  \n",
      " 6   CoapplicantIncome  399 non-null    float64\n",
      " 7   LoanAmount         389 non-null    float64\n",
      " 8   Loan_Amount_Term   392 non-null    float64\n",
      " 9   Credit_History     371 non-null    float64\n",
      " 10  Property_Area      399 non-null    object \n",
      "dtypes: float64(4), int64(1), object(6)\n",
      "memory usage: 37.4+ KB\n"
     ]
    }
   ],
   "source": [
    "X_train.info()"
   ]
  },
  {
   "cell_type": "code",
   "execution_count": 25,
   "id": "11b1ec82",
   "metadata": {},
   "outputs": [],
   "source": [
    "from feature_engine.imputation import CategoricalImputer\n",
    "\n",
    "# set up the imputer\n",
    "imputer = CategoricalImputer(variables=['Gender', 'Self_Employed', 'Married', 'Dependents'])\n",
    "\n",
    "# fit the imputer\n",
    "imputer.fit(X_train)\n",
    "\n",
    "# transform the data\n",
    "X_train_t = imputer.transform(X_train)\n",
    "X_test_t = imputer.transform(X_test)"
   ]
  },
  {
   "cell_type": "code",
   "execution_count": 26,
   "id": "952cb07c",
   "metadata": {},
   "outputs": [
    {
     "data": {
      "text/html": [
       "<div>\n",
       "<style scoped>\n",
       "    .dataframe tbody tr th:only-of-type {\n",
       "        vertical-align: middle;\n",
       "    }\n",
       "\n",
       "    .dataframe tbody tr th {\n",
       "        vertical-align: top;\n",
       "    }\n",
       "\n",
       "    .dataframe thead th {\n",
       "        text-align: right;\n",
       "    }\n",
       "</style>\n",
       "<table border=\"1\" class=\"dataframe\">\n",
       "  <thead>\n",
       "    <tr style=\"text-align: right;\">\n",
       "      <th></th>\n",
       "      <th>column_name</th>\n",
       "      <th>percent_missing</th>\n",
       "    </tr>\n",
       "  </thead>\n",
       "  <tbody>\n",
       "    <tr>\n",
       "      <th>Credit_History</th>\n",
       "      <td>Credit_History</td>\n",
       "      <td>7.02</td>\n",
       "    </tr>\n",
       "    <tr>\n",
       "      <th>LoanAmount</th>\n",
       "      <td>LoanAmount</td>\n",
       "      <td>2.51</td>\n",
       "    </tr>\n",
       "    <tr>\n",
       "      <th>Loan_Amount_Term</th>\n",
       "      <td>Loan_Amount_Term</td>\n",
       "      <td>1.75</td>\n",
       "    </tr>\n",
       "    <tr>\n",
       "      <th>Gender</th>\n",
       "      <td>Gender</td>\n",
       "      <td>0.00</td>\n",
       "    </tr>\n",
       "    <tr>\n",
       "      <th>Married</th>\n",
       "      <td>Married</td>\n",
       "      <td>0.00</td>\n",
       "    </tr>\n",
       "    <tr>\n",
       "      <th>Dependents</th>\n",
       "      <td>Dependents</td>\n",
       "      <td>0.00</td>\n",
       "    </tr>\n",
       "    <tr>\n",
       "      <th>Education</th>\n",
       "      <td>Education</td>\n",
       "      <td>0.00</td>\n",
       "    </tr>\n",
       "    <tr>\n",
       "      <th>Self_Employed</th>\n",
       "      <td>Self_Employed</td>\n",
       "      <td>0.00</td>\n",
       "    </tr>\n",
       "    <tr>\n",
       "      <th>ApplicantIncome</th>\n",
       "      <td>ApplicantIncome</td>\n",
       "      <td>0.00</td>\n",
       "    </tr>\n",
       "    <tr>\n",
       "      <th>CoapplicantIncome</th>\n",
       "      <td>CoapplicantIncome</td>\n",
       "      <td>0.00</td>\n",
       "    </tr>\n",
       "    <tr>\n",
       "      <th>Property_Area</th>\n",
       "      <td>Property_Area</td>\n",
       "      <td>0.00</td>\n",
       "    </tr>\n",
       "  </tbody>\n",
       "</table>\n",
       "</div>"
      ],
      "text/plain": [
       "                         column_name  percent_missing\n",
       "Credit_History        Credit_History             7.02\n",
       "LoanAmount                LoanAmount             2.51\n",
       "Loan_Amount_Term    Loan_Amount_Term             1.75\n",
       "Gender                        Gender             0.00\n",
       "Married                      Married             0.00\n",
       "Dependents                Dependents             0.00\n",
       "Education                  Education             0.00\n",
       "Self_Employed          Self_Employed             0.00\n",
       "ApplicantIncome      ApplicantIncome             0.00\n",
       "CoapplicantIncome  CoapplicantIncome             0.00\n",
       "Property_Area          Property_Area             0.00"
      ]
     },
     "execution_count": 26,
     "metadata": {},
     "output_type": "execute_result"
    }
   ],
   "source": [
    "percent_missing = (X_train_t.isnull().sum() * 100 / len(X_train_t)).round(2)\n",
    "missing_value_data = pd.DataFrame({'column_name': X_train_t.columns,\n",
    "                                 'percent_missing': percent_missing})\n",
    "missing_value_data.sort_values('percent_missing', ascending=False, inplace=True)\n",
    "missing_value_data"
   ]
  },
  {
   "cell_type": "code",
   "execution_count": 27,
   "id": "e068911d",
   "metadata": {},
   "outputs": [],
   "source": [
    "numerical_features = [column_name for column_name in X_train_t.columns if X_train_t[column_name].dtype == 'float64']\n",
    "for feature in numerical_features:\n",
    "    if -0.5 <= X_train_t[feature].skew() <= 0.5:\n",
    "        mean = X_train_t[feature].mean()\n",
    "        X_train_t[feature].fillna(mean, inplace=True)\n",
    "        X_test_t[feature].fillna(mean, inplace=True)\n",
    "\n",
    "    else:\n",
    "        median = X_train_t[feature].median()\n",
    "        X_train_t[feature].fillna(median, inplace=True)\n",
    "        X_test_t[feature].fillna(median, inplace=True)"
   ]
  },
  {
   "cell_type": "code",
   "execution_count": 28,
   "id": "a46f8f02",
   "metadata": {},
   "outputs": [
    {
     "data": {
      "text/html": [
       "<div>\n",
       "<style scoped>\n",
       "    .dataframe tbody tr th:only-of-type {\n",
       "        vertical-align: middle;\n",
       "    }\n",
       "\n",
       "    .dataframe tbody tr th {\n",
       "        vertical-align: top;\n",
       "    }\n",
       "\n",
       "    .dataframe thead th {\n",
       "        text-align: right;\n",
       "    }\n",
       "</style>\n",
       "<table border=\"1\" class=\"dataframe\">\n",
       "  <thead>\n",
       "    <tr style=\"text-align: right;\">\n",
       "      <th></th>\n",
       "      <th>column_name</th>\n",
       "      <th>percent_missing</th>\n",
       "    </tr>\n",
       "  </thead>\n",
       "  <tbody>\n",
       "    <tr>\n",
       "      <th>Gender</th>\n",
       "      <td>Gender</td>\n",
       "      <td>0.0</td>\n",
       "    </tr>\n",
       "    <tr>\n",
       "      <th>Married</th>\n",
       "      <td>Married</td>\n",
       "      <td>0.0</td>\n",
       "    </tr>\n",
       "    <tr>\n",
       "      <th>Dependents</th>\n",
       "      <td>Dependents</td>\n",
       "      <td>0.0</td>\n",
       "    </tr>\n",
       "    <tr>\n",
       "      <th>Education</th>\n",
       "      <td>Education</td>\n",
       "      <td>0.0</td>\n",
       "    </tr>\n",
       "    <tr>\n",
       "      <th>Self_Employed</th>\n",
       "      <td>Self_Employed</td>\n",
       "      <td>0.0</td>\n",
       "    </tr>\n",
       "    <tr>\n",
       "      <th>ApplicantIncome</th>\n",
       "      <td>ApplicantIncome</td>\n",
       "      <td>0.0</td>\n",
       "    </tr>\n",
       "    <tr>\n",
       "      <th>CoapplicantIncome</th>\n",
       "      <td>CoapplicantIncome</td>\n",
       "      <td>0.0</td>\n",
       "    </tr>\n",
       "    <tr>\n",
       "      <th>LoanAmount</th>\n",
       "      <td>LoanAmount</td>\n",
       "      <td>0.0</td>\n",
       "    </tr>\n",
       "    <tr>\n",
       "      <th>Loan_Amount_Term</th>\n",
       "      <td>Loan_Amount_Term</td>\n",
       "      <td>0.0</td>\n",
       "    </tr>\n",
       "    <tr>\n",
       "      <th>Credit_History</th>\n",
       "      <td>Credit_History</td>\n",
       "      <td>0.0</td>\n",
       "    </tr>\n",
       "    <tr>\n",
       "      <th>Property_Area</th>\n",
       "      <td>Property_Area</td>\n",
       "      <td>0.0</td>\n",
       "    </tr>\n",
       "  </tbody>\n",
       "</table>\n",
       "</div>"
      ],
      "text/plain": [
       "                         column_name  percent_missing\n",
       "Gender                        Gender              0.0\n",
       "Married                      Married              0.0\n",
       "Dependents                Dependents              0.0\n",
       "Education                  Education              0.0\n",
       "Self_Employed          Self_Employed              0.0\n",
       "ApplicantIncome      ApplicantIncome              0.0\n",
       "CoapplicantIncome  CoapplicantIncome              0.0\n",
       "LoanAmount                LoanAmount              0.0\n",
       "Loan_Amount_Term    Loan_Amount_Term              0.0\n",
       "Credit_History        Credit_History              0.0\n",
       "Property_Area          Property_Area              0.0"
      ]
     },
     "execution_count": 28,
     "metadata": {},
     "output_type": "execute_result"
    }
   ],
   "source": [
    "percent_missing = (X_train_t.isnull().sum() * 100 / len(X_train_t)).round(2)\n",
    "missing_value_data = pd.DataFrame({'column_name': X_train_t.columns,\n",
    "                                 'percent_missing': percent_missing})\n",
    "missing_value_data.sort_values('percent_missing', ascending=False, inplace=True)\n",
    "missing_value_data"
   ]
  },
  {
   "cell_type": "code",
   "execution_count": 29,
   "id": "e70681e3",
   "metadata": {},
   "outputs": [
    {
     "data": {
      "text/plain": [
       "Gender               0\n",
       "Married              0\n",
       "Dependents           0\n",
       "Education            0\n",
       "Self_Employed        0\n",
       "ApplicantIncome      0\n",
       "CoapplicantIncome    0\n",
       "LoanAmount           0\n",
       "Loan_Amount_Term     0\n",
       "Credit_History       0\n",
       "Property_Area        0\n",
       "dtype: int64"
      ]
     },
     "execution_count": 29,
     "metadata": {},
     "output_type": "execute_result"
    }
   ],
   "source": [
    "X_test_t.isna().sum()"
   ]
  },
  {
   "cell_type": "code",
   "execution_count": 30,
   "id": "5236d9d5",
   "metadata": {},
   "outputs": [
    {
     "data": {
      "text/plain": [
       "0"
      ]
     },
     "execution_count": 30,
     "metadata": {},
     "output_type": "execute_result"
    }
   ],
   "source": [
    "y_train.isna().sum()"
   ]
  },
  {
   "cell_type": "code",
   "execution_count": 31,
   "id": "9ba18d42",
   "metadata": {},
   "outputs": [
    {
     "data": {
      "text/plain": [
       "0"
      ]
     },
     "execution_count": 31,
     "metadata": {},
     "output_type": "execute_result"
    }
   ],
   "source": [
    "y_test.isna().sum()"
   ]
  },
  {
   "cell_type": "markdown",
   "id": "92641d75",
   "metadata": {},
   "source": [
    "### Handling Outliers"
   ]
  },
  {
   "cell_type": "code",
   "execution_count": 32,
   "id": "10762742",
   "metadata": {},
   "outputs": [
    {
     "data": {
      "text/plain": [
       "Index(['Gender', 'Married', 'Dependents', 'Education', 'Self_Employed',\n",
       "       'ApplicantIncome', 'CoapplicantIncome', 'LoanAmount',\n",
       "       'Loan_Amount_Term', 'Credit_History', 'Property_Area'],\n",
       "      dtype='object')"
      ]
     },
     "execution_count": 32,
     "metadata": {},
     "output_type": "execute_result"
    }
   ],
   "source": [
    "X_train_t.columns"
   ]
  },
  {
   "cell_type": "code",
   "execution_count": 33,
   "id": "6f290db4",
   "metadata": {},
   "outputs": [
    {
     "name": "stdout",
     "output_type": "stream",
     "text": [
      "<class 'pandas.core.frame.DataFrame'>\n",
      "Int64Index: 399 entries, 510 to 222\n",
      "Data columns (total 11 columns):\n",
      " #   Column             Non-Null Count  Dtype  \n",
      "---  ------             --------------  -----  \n",
      " 0   Gender             399 non-null    object \n",
      " 1   Married            399 non-null    object \n",
      " 2   Dependents         399 non-null    object \n",
      " 3   Education          399 non-null    object \n",
      " 4   Self_Employed      399 non-null    object \n",
      " 5   ApplicantIncome    399 non-null    int64  \n",
      " 6   CoapplicantIncome  399 non-null    float64\n",
      " 7   LoanAmount         399 non-null    float64\n",
      " 8   Loan_Amount_Term   399 non-null    float64\n",
      " 9   Credit_History     399 non-null    float64\n",
      " 10  Property_Area      399 non-null    object \n",
      "dtypes: float64(4), int64(1), object(6)\n",
      "memory usage: 37.4+ KB\n"
     ]
    }
   ],
   "source": [
    "X_train_t.info()"
   ]
  },
  {
   "cell_type": "code",
   "execution_count": 34,
   "id": "5f14cab2",
   "metadata": {},
   "outputs": [],
   "source": [
    "def diagnostic_plots(df, variable):\n",
    "    # Define figure size\n",
    "    plt.figure(figsize=(16, 4))\n",
    "\n",
    "    # Histogram\n",
    "    plt.subplot(1, 2, 1)\n",
    "    sns.histplot(df[variable], bins=30)\n",
    "    plt.title('Histogram')\n",
    "\n",
    "    # Boxplot\n",
    "    plt.subplot(1, 2, 2)\n",
    "    sns.boxplot(y=df[variable])\n",
    "    plt.title('Boxplot')\n",
    "\n",
    "    plt.show()"
   ]
  },
  {
   "cell_type": "code",
   "execution_count": 35,
   "id": "edcc3355",
   "metadata": {},
   "outputs": [
    {
     "data": {
      "image/png": "[encoded data removed]",
      "text/plain": [
       "<Figure size 1152x288 with 2 Axes>"
      ]
     },
     "metadata": {
      "needs_background": "light"
     },
     "output_type": "display_data"
    },
    {
     "data": {
      "image/png": "[encoded data removed]",
      "text/plain": [
       "<Figure size 1152x288 with 2 Axes>"
      ]
     },
     "metadata": {
      "needs_background": "light"
     },
     "output_type": "display_data"
    },
    {
     "data": {
      "image/png": "[encoded data removed]",
      "text/plain": [
       "<Figure size 1152x288 with 2 Axes>"
      ]
     },
     "metadata": {
      "needs_background": "light"
     },
     "output_type": "display_data"
    },
    {
     "data": {
      "image/png": "[encoded data removed]",
      "text/plain": [
       "<Figure size 1152x288 with 2 Axes>"
      ]
     },
     "metadata": {
      "needs_background": "light"
     },
     "output_type": "display_data"
    },
    {
     "data": {
      "image/png": "[encoded data removed]",
      "text/plain": [
       "<Figure size 1152x288 with 2 Axes>"
      ]
     },
     "metadata": {
      "needs_background": "light"
     },
     "output_type": "display_data"
    }
   ],
   "source": [
    "diagnostic_plots(X_train_t, 'ApplicantIncome')\n",
    "diagnostic_plots(X_train_t, 'CoapplicantIncome')\n",
    "diagnostic_plots(X_train_t, 'LoanAmount')\n",
    "diagnostic_plots(X_train_t, 'Loan_Amount_Term')\n",
    "diagnostic_plots(X_train_t, 'Credit_History')"
   ]
  },
  {
   "cell_type": "code",
   "execution_count": 36,
   "id": "262869c5",
   "metadata": {},
   "outputs": [],
   "source": [
    "from feature_engine.outliers import Winsorizer\n",
    "\n",
    "cap = X_train_t[[ 'ApplicantIncome', 'CoapplicantIncome', 'LoanAmount']]"
   ]
  },
  {
   "cell_type": "code",
   "execution_count": 37,
   "id": "77f9a09b",
   "metadata": {},
   "outputs": [],
   "source": [
    "windsoriser = Winsorizer(capping_method='iqr', # choose iqr for IQR rule boundaries or gaussian for mean and std\n",
    "                          tail='both', # cap left, right or both tails \n",
    "                          fold=1.5,\n",
    "                          variables=['ApplicantIncome', 'CoapplicantIncome', 'LoanAmount'])"
   ]
  },
  {
   "cell_type": "code",
   "execution_count": 38,
   "id": "1344def1",
   "metadata": {},
   "outputs": [],
   "source": [
    "windsoriser.fit(cap)\n",
    "\n",
    "cap_t = windsoriser.transform(cap)"
   ]
  },
  {
   "cell_type": "code",
   "execution_count": 39,
   "id": "560d3e91",
   "metadata": {},
   "outputs": [
    {
     "name": "stdout",
     "output_type": "stream",
     "text": [
      "Left Tail Caps  :  {'ApplicantIncome': -1462.75, 'CoapplicantIncome': -3507.0, 'LoanAmount': -1.25}\n",
      "Right Tail Caps :  {'ApplicantIncome': 10187.25, 'CoapplicantIncome': 5845.0, 'LoanAmount': 268.75}\n"
     ]
    }
   ],
   "source": [
    "# Inspect the minimum caps for each variable\n",
    "print('Left Tail Caps  : ', windsoriser.left_tail_caps_)\n",
    "\n",
    "# Iinspect the maximum caps for each variable\n",
    "print('Right Tail Caps : ', windsoriser.right_tail_caps_)"
   ]
  },
  {
   "cell_type": "code",
   "execution_count": 40,
   "id": "8cfcea43",
   "metadata": {
    "scrolled": true
   },
   "outputs": [
    {
     "name": "stdout",
     "output_type": "stream",
     "text": [
      "Data - Before Capping\n",
      "       ApplicantIncome  CoapplicantIncome  LoanAmount\n",
      "count       399.000000         399.000000  399.000000\n",
      "mean       5631.320802        1596.172431  149.273183\n",
      "std        7086.958378        2846.631888   91.198541\n",
      "min         150.000000           0.000000    9.000000\n",
      "25%        2906.000000           0.000000  100.000000\n",
      "50%        3800.000000        1040.000000  128.000000\n",
      "75%        5818.500000        2338.000000  167.500000\n",
      "max       81000.000000       41667.000000  700.000000\n",
      "\n",
      "Data - After Capping\n",
      "       ApplicantIncome  CoapplicantIncome  LoanAmount\n",
      "count       399.000000         399.000000  399.000000\n",
      "mean       4625.467419        1423.157393  139.565789\n",
      "std        2453.061646        1643.739044   59.501701\n",
      "min         150.000000           0.000000    9.000000\n",
      "25%        2906.000000           0.000000  100.000000\n",
      "50%        3800.000000        1040.000000  128.000000\n",
      "75%        5818.500000        2338.000000  167.500000\n",
      "max       10187.250000        5845.000000  268.750000\n"
     ]
    }
   ],
   "source": [
    "print('Data - Before Capping')\n",
    "print(cap.describe())\n",
    "print('')\n",
    "print('Data - After Capping')\n",
    "print(cap_t.describe())"
   ]
  },
  {
   "cell_type": "code",
   "execution_count": 41,
   "id": "880495e9",
   "metadata": {
    "scrolled": false
   },
   "outputs": [
    {
     "name": "stdout",
     "output_type": "stream",
     "text": [
      "ApplicantIncome - Before Capping\n"
     ]
    },
    {
     "data": {
      "image/png": "[encoded data removed]",
      "text/plain": [
       "<Figure size 1152x288 with 2 Axes>"
      ]
     },
     "metadata": {
      "needs_background": "light"
     },
     "output_type": "display_data"
    },
    {
     "name": "stdout",
     "output_type": "stream",
     "text": [
      "\n",
      "ApplicantIncome - After Capping\n"
     ]
    },
    {
     "data": {
      "image/png": "[encoded data removed]",
      "text/plain": [
       "<Figure size 1152x288 with 2 Axes>"
      ]
     },
     "metadata": {
      "needs_background": "light"
     },
     "output_type": "display_data"
    },
    {
     "name": "stdout",
     "output_type": "stream",
     "text": [
      "CoapplicantIncome - Before Capping\n"
     ]
    },
    {
     "data": {
      "image/png": "[encoded data removed]",
      "text/plain": [
       "<Figure size 1152x288 with 2 Axes>"
      ]
     },
     "metadata": {
      "needs_background": "light"
     },
     "output_type": "display_data"
    },
    {
     "name": "stdout",
     "output_type": "stream",
     "text": [
      "\n",
      "CoapplicantIncome - After Capping\n"
     ]
    },
    {
     "data": {
      "image/png": "[encoded data removed]",
      "text/plain": [
       "<Figure size 1152x288 with 2 Axes>"
      ]
     },
     "metadata": {
      "needs_background": "light"
     },
     "output_type": "display_data"
    },
    {
     "name": "stdout",
     "output_type": "stream",
     "text": [
      "LoanAmount - Before Capping\n"
     ]
    },
    {
     "data": {
      "image/png": "[encoded data removed]",
      "text/plain": [
       "<Figure size 1152x288 with 2 Axes>"
      ]
     },
     "metadata": {
      "needs_background": "light"
     },
     "output_type": "display_data"
    },
    {
     "name": "stdout",
     "output_type": "stream",
     "text": [
      "\n",
      "LoanAmount - After Capping\n"
     ]
    },
    {
     "data": {
      "image/png": "[encoded data removed]",
      "text/plain": [
       "<Figure size 1152x288 with 2 Axes>"
      ]
     },
     "metadata": {
      "needs_background": "light"
     },
     "output_type": "display_data"
    }
   ],
   "source": [
    "print('ApplicantIncome - Before Capping')\n",
    "diagnostic_plots(cap, 'ApplicantIncome')\n",
    "print('\\nApplicantIncome - After Capping')\n",
    "diagnostic_plots(cap_t, 'ApplicantIncome')\n",
    "\n",
    "print('CoapplicantIncome - Before Capping')\n",
    "diagnostic_plots(cap, 'CoapplicantIncome')\n",
    "print('\\nCoapplicantIncome - After Capping')\n",
    "diagnostic_plots(cap_t, 'CoapplicantIncome')\n",
    "\n",
    "print('LoanAmount - Before Capping')\n",
    "diagnostic_plots(cap, 'LoanAmount')\n",
    "print('\\nLoanAmount - After Capping')\n",
    "diagnostic_plots(cap_t, 'LoanAmount')"
   ]
  },
  {
   "cell_type": "markdown",
   "id": "8360d843",
   "metadata": {},
   "source": [
    "### Split Numerical and Categorical"
   ]
  },
  {
   "cell_type": "code",
   "execution_count": 42,
   "id": "0d965640",
   "metadata": {},
   "outputs": [],
   "source": [
    "num_columns = X_train_t.select_dtypes(include=np.number).columns.tolist()\n",
    "cat_columns = X_train_t.select_dtypes(include=['object']).columns.tolist()"
   ]
  },
  {
   "cell_type": "code",
   "execution_count": 43,
   "id": "910dbc48",
   "metadata": {},
   "outputs": [
    {
     "name": "stdout",
     "output_type": "stream",
     "text": [
      "Numeric Columns : ['ApplicantIncome', 'CoapplicantIncome', 'LoanAmount', 'Loan_Amount_Term', 'Credit_History']\n",
      "Categorical Columns :  ['Gender', 'Married', 'Dependents', 'Education', 'Self_Employed', 'Property_Area']\n"
     ]
    }
   ],
   "source": [
    "print('Numeric Columns :', num_columns)\n",
    "print('Categorical Columns : ', cat_columns)"
   ]
  },
  {
   "cell_type": "code",
   "execution_count": 44,
   "id": "a1287db7",
   "metadata": {},
   "outputs": [],
   "source": [
    "# Split on X_train\n",
    "\n",
    "X_train_num = X_train_t[num_columns]\n",
    "X_train_cat = X_train_t[cat_columns]\n",
    "\n",
    "\n",
    "#Split on X_test\n",
    "\n",
    "X_test_num = X_test_t[num_columns]\n",
    "X_test_cat = X_test_t[cat_columns]"
   ]
  },
  {
   "cell_type": "markdown",
   "id": "ff87e1f5",
   "metadata": {},
   "source": [
    "### Encoding"
   ]
  },
  {
   "cell_type": "code",
   "execution_count": 45,
   "id": "0db64ebc",
   "metadata": {
    "scrolled": true
   },
   "outputs": [
    {
     "data": {
      "text/html": [
       "<div>\n",
       "<style scoped>\n",
       "    .dataframe tbody tr th:only-of-type {\n",
       "        vertical-align: middle;\n",
       "    }\n",
       "\n",
       "    .dataframe tbody tr th {\n",
       "        vertical-align: top;\n",
       "    }\n",
       "\n",
       "    .dataframe thead th {\n",
       "        text-align: right;\n",
       "    }\n",
       "</style>\n",
       "<table border=\"1\" class=\"dataframe\">\n",
       "  <thead>\n",
       "    <tr style=\"text-align: right;\">\n",
       "      <th></th>\n",
       "      <th>Gender</th>\n",
       "      <th>Married</th>\n",
       "      <th>Dependents</th>\n",
       "      <th>Education</th>\n",
       "      <th>Self_Employed</th>\n",
       "      <th>ApplicantIncome</th>\n",
       "      <th>CoapplicantIncome</th>\n",
       "      <th>LoanAmount</th>\n",
       "      <th>Loan_Amount_Term</th>\n",
       "      <th>Credit_History</th>\n",
       "      <th>Property_Area</th>\n",
       "    </tr>\n",
       "  </thead>\n",
       "  <tbody>\n",
       "    <tr>\n",
       "      <th>510</th>\n",
       "      <td>Male</td>\n",
       "      <td>No</td>\n",
       "      <td>0</td>\n",
       "      <td>Not Graduate</td>\n",
       "      <td>No</td>\n",
       "      <td>3598</td>\n",
       "      <td>1287.0</td>\n",
       "      <td>100.0</td>\n",
       "      <td>360.0</td>\n",
       "      <td>1.0</td>\n",
       "      <td>Rural</td>\n",
       "    </tr>\n",
       "    <tr>\n",
       "      <th>560</th>\n",
       "      <td>Male</td>\n",
       "      <td>Yes</td>\n",
       "      <td>2</td>\n",
       "      <td>Not Graduate</td>\n",
       "      <td>No</td>\n",
       "      <td>3675</td>\n",
       "      <td>242.0</td>\n",
       "      <td>108.0</td>\n",
       "      <td>360.0</td>\n",
       "      <td>1.0</td>\n",
       "      <td>Semiurban</td>\n",
       "    </tr>\n",
       "  </tbody>\n",
       "</table>\n",
       "</div>"
      ],
      "text/plain": [
       "    Gender Married Dependents     Education Self_Employed  ApplicantIncome  \\\n",
       "510   Male      No          0  Not Graduate            No             3598   \n",
       "560   Male     Yes          2  Not Graduate            No             3675   \n",
       "\n",
       "     CoapplicantIncome  LoanAmount  Loan_Amount_Term  Credit_History  \\\n",
       "510             1287.0       100.0             360.0             1.0   \n",
       "560              242.0       108.0             360.0             1.0   \n",
       "\n",
       "    Property_Area  \n",
       "510         Rural  \n",
       "560     Semiurban  "
      ]
     },
     "execution_count": 45,
     "metadata": {},
     "output_type": "execute_result"
    }
   ],
   "source": [
    "X_train_t.head(2)"
   ]
  },
  {
   "cell_type": "code",
   "execution_count": 46,
   "id": "81c8a13e",
   "metadata": {},
   "outputs": [],
   "source": [
    "from sklearn.preprocessing import OrdinalEncoder\n",
    "\n",
    "encoder=OrdinalEncoder()\n",
    "X_train_cat_enc = encoder.fit_transform(X_train_cat)\n",
    "X_test_cat_enc = encoder.transform(X_test_cat)"
   ]
  },
  {
   "cell_type": "markdown",
   "id": "db00a8a7",
   "metadata": {},
   "source": [
    "### Scaling"
   ]
  },
  {
   "cell_type": "code",
   "execution_count": 47,
   "id": "579f4a1e",
   "metadata": {},
   "outputs": [],
   "source": [
    "from sklearn.preprocessing import MinMaxScaler\n",
    "\n",
    "scaler = MinMaxScaler()\n",
    "\n",
    "X_train_num_scaled = scaler.fit_transform(X_train_num)\n",
    "X_test_num_scaled = scaler.transform(X_test_num)"
   ]
  },
  {
   "cell_type": "markdown",
   "id": "cfb4382c",
   "metadata": {},
   "source": [
    "### Concatenate"
   ]
  },
  {
   "cell_type": "code",
   "execution_count": 48,
   "id": "28282805",
   "metadata": {},
   "outputs": [],
   "source": [
    "X_train_dc = np.concatenate([X_train_num_scaled, X_train_cat_enc],axis=1)\n",
    "X_test_dc = np.concatenate([X_test_num_scaled, X_test_cat_enc],axis=1)"
   ]
  },
  {
   "cell_type": "code",
   "execution_count": 49,
   "id": "34028326",
   "metadata": {
    "scrolled": true
   },
   "outputs": [
    {
     "data": {
      "text/plain": [
       "array([[0.03839208, 0.        , 0.0593343 , ..., 0.        , 1.        ,\n",
       "        2.        ],\n",
       "       [0.04053185, 0.        , 0.18668596, ..., 0.        , 1.        ,\n",
       "        2.        ],\n",
       "       [0.03714286, 0.0374397 , 0.18089725, ..., 0.        , 1.        ,\n",
       "        2.        ],\n",
       "       ...,\n",
       "       [0.12241187, 0.        , 0.17221418, ..., 0.        , 1.        ,\n",
       "        1.        ],\n",
       "       [0.04097712, 0.        , 0.16353111, ..., 0.        , 2.        ,\n",
       "        2.        ],\n",
       "       [0.04530612, 0.        , 0.15484805, ..., 0.        , 1.        ,\n",
       "        2.        ]])"
      ]
     },
     "execution_count": 49,
     "metadata": {},
     "output_type": "execute_result"
    }
   ],
   "source": [
    "X_test_dc"
   ]
  },
  {
   "cell_type": "markdown",
   "id": "d1dd6ffd",
   "metadata": {},
   "source": [
    "# Modeling"
   ]
  },
  {
   "cell_type": "markdown",
   "id": "1ec62e0e",
   "metadata": {},
   "source": [
    "## Logistic Regression"
   ]
  },
  {
   "cell_type": "code",
   "execution_count": 50,
   "id": "4941e367",
   "metadata": {},
   "outputs": [],
   "source": [
    "from sklearn.linear_model import LogisticRegression"
   ]
  },
  {
   "cell_type": "code",
   "execution_count": 51,
   "id": "70edce71",
   "metadata": {},
   "outputs": [],
   "source": [
    "from sklearn.model_selection import GridSearchCV"
   ]
  },
  {
   "cell_type": "code",
   "execution_count": 52,
   "id": "2116b52d",
   "metadata": {},
   "outputs": [],
   "source": [
    "# Creating the hyperparameter grid\n",
    "c_space = np.logspace(-5, 8, 15)\n",
    "random_state = list(range(42))\n",
    "random_state.append(None)\n",
    "params = {'C': c_space,\n",
    "              'solver': ['newton-cg', 'lbfgs', 'liblinear', 'sag', 'saga'],\n",
    "              'random_state': random_state,\n",
    "              'max_iter': list(range(100, 200, 100))}"
   ]
  },
  {
   "cell_type": "code",
   "execution_count": 53,
   "id": "37dd0a45",
   "metadata": {},
   "outputs": [],
   "source": [
    "lr = LogisticRegression()\n",
    "lr_cv = GridSearchCV(lr, params, cv = 5)"
   ]
  },
  {
   "cell_type": "code",
   "execution_count": 54,
   "id": "9f121101",
   "metadata": {},
   "outputs": [
    {
     "data": {
      "text/plain": [
       "GridSearchCV(cv=5, estimator=LogisticRegression(),\n",
       "             param_grid={'C': array([1.00000000e-05, 8.48342898e-05, 7.19685673e-04, 6.10540230e-03,\n",
       "       5.17947468e-02, 4.39397056e-01, 3.72759372e+00, 3.16227766e+01,\n",
       "       2.68269580e+02, 2.27584593e+03, 1.93069773e+04, 1.63789371e+05,\n",
       "       1.38949549e+06, 1.17876863e+07, 1.00000000e+08]),\n",
       "                         'max_iter': [100],\n",
       "                         'random_state': [0, 1, 2, 3, 4, 5, 6, 7, 8, 9, 10, 11,\n",
       "                                          12, 13, 14, 15, 16, 17, 18, 19, 20,\n",
       "                                          21, 22, 23, 24, 25, 26, 27, 28, 29, ...],\n",
       "                         'solver': ['newton-cg', 'lbfgs', 'liblinear', 'sag',\n",
       "                                    'saga']})"
      ]
     },
     "execution_count": 54,
     "metadata": {},
     "output_type": "execute_result"
    }
   ],
   "source": [
    "lr_cv.fit(X_train_dc, y_train)"
   ]
  },
  {
   "cell_type": "code",
   "execution_count": 55,
   "id": "621a36d2",
   "metadata": {},
   "outputs": [
    {
     "name": "stdout",
     "output_type": "stream",
     "text": [
      "Tuned Decision Tree Parameters: {'C': 0.4393970560760795, 'max_iter': 100, 'random_state': 0, 'solver': 'newton-cg'}\n",
      "Best score is 0.7945569620253164\n"
     ]
    }
   ],
   "source": [
    "# Print the tuned parameters and score\n",
    "print(\"Tuned Decision Tree Parameters: {}\".format(lr_cv.best_params_)) \n",
    "print(\"Best score is {}\".format(lr_cv.best_score_))"
   ]
  },
  {
   "cell_type": "code",
   "execution_count": 56,
   "id": "ce627470",
   "metadata": {},
   "outputs": [],
   "source": [
    "lr = LogisticRegression(\n",
    "    C = lr_cv.best_params_['C'], \n",
    "    max_iter = lr_cv.best_params_['max_iter'], \n",
    "    random_state = lr_cv.best_params_['random_state'], \n",
    "    solver = lr_cv.best_params_['solver'])"
   ]
  },
  {
   "cell_type": "code",
   "execution_count": 57,
   "id": "51d375df",
   "metadata": {},
   "outputs": [
    {
     "data": {
      "text/plain": [
       "LogisticRegression(C=0.4393970560760795, random_state=0, solver='newton-cg')"
      ]
     },
     "execution_count": 57,
     "metadata": {},
     "output_type": "execute_result"
    }
   ],
   "source": [
    "lr.fit(X_train_dc,y_train)"
   ]
  },
  {
   "cell_type": "code",
   "execution_count": 58,
   "id": "ebe7dbd7",
   "metadata": {},
   "outputs": [
    {
     "name": "stdout",
     "output_type": "stream",
     "text": [
      "Accuracy of Logistic regression classifier on training set: 0.80\n",
      "Accuracy of Logistic regression classifier on test set: 0.83\n",
      "Accuracy Score: 0.8325581395348837\n"
     ]
    }
   ],
   "source": [
    "from sklearn.metrics import accuracy_score\n",
    "print('Accuracy of Logistic regression classifier on training set: {:.2f}'.format(lr.score(X_train_dc, y_train)))\n",
    "print('Accuracy of Logistic regression classifier on test set: {:.2f}'.format(lr.score(X_test_dc, y_test)))\n",
    "\n",
    "pred = lr.predict(X_test_dc)\n",
    "print(\"Accuracy Score: {}\".format(accuracy_score(y_test, pred)))"
   ]
  },
  {
   "cell_type": "code",
   "execution_count": 59,
   "id": "251cdf24",
   "metadata": {},
   "outputs": [
    {
     "name": "stdout",
     "output_type": "stream",
     "text": [
      "Average score of Train Cross Validation is 0.7945569620253164\n",
      "Average score of Test Cross Validation is 0.8325581395348838\n"
     ]
    }
   ],
   "source": [
    "from sklearn.model_selection import cross_validate\n",
    "\n",
    "cv_results_lr = cross_validate(lr, X_train_dc,y_train, scoring=('accuracy'), return_train_score=True)\n",
    "print(f\"Average score of Train Cross Validation is {cv_results_lr['test_score'].mean()}\")\n",
    "\n",
    "cv_results_logreg_test = cross_validate(lr, X_test_dc,y_test, scoring=('accuracy'), return_train_score=True)\n",
    "print(f\"Average score of Test Cross Validation is {cv_results_logreg_test['test_score'].mean()}\")"
   ]
  },
  {
   "cell_type": "code",
   "execution_count": 60,
   "id": "9c48d098",
   "metadata": {},
   "outputs": [
    {
     "name": "stdout",
     "output_type": "stream",
     "text": [
      "              precision    recall  f1-score   support\n",
      "\n",
      "           N       0.94      0.49      0.65        67\n",
      "           Y       0.81      0.99      0.89       148\n",
      "\n",
      "    accuracy                           0.83       215\n",
      "   macro avg       0.88      0.74      0.77       215\n",
      "weighted avg       0.85      0.83      0.81       215\n",
      "\n"
     ]
    }
   ],
   "source": [
    "from sklearn.metrics import classification_report\n",
    "\n",
    "print(classification_report(y_test, pred))"
   ]
  },
  {
   "cell_type": "markdown",
   "id": "3971de79",
   "metadata": {},
   "source": [
    "## Support Vector Machine"
   ]
  },
  {
   "cell_type": "code",
   "execution_count": 61,
   "id": "e0d1f8b1",
   "metadata": {},
   "outputs": [
    {
     "data": {
      "text/plain": [
       "SVC()"
      ]
     },
     "execution_count": 61,
     "metadata": {},
     "output_type": "execute_result"
    }
   ],
   "source": [
    "from sklearn.svm import SVC\n",
    "from sklearn import metrics\n",
    "svc=SVC() #Default hyperparameters\n",
    "svc.fit(X_train_dc,y_train)"
   ]
  },
  {
   "cell_type": "code",
   "execution_count": 62,
   "id": "ab3fcad8",
   "metadata": {},
   "outputs": [
    {
     "name": "stdout",
     "output_type": "stream",
     "text": [
      "Accuracy of SVM on training set: 0.80\n",
      "Accuracy of SVM classifier on test set: 0.83\n",
      "Accuracy Score: 0.8325581395348837\n"
     ]
    }
   ],
   "source": [
    "from sklearn.metrics import accuracy_score\n",
    "print('Accuracy of SVM on training set: {:.2f}'.format(svc.score(X_train_dc, y_train)))\n",
    "print('Accuracy of SVM classifier on test set: {:.2f}'.format(svc.score(X_test_dc, y_test)))\n",
    "\n",
    "pred_s = svc.predict(X_test_dc)\n",
    "print(\"Accuracy Score: {}\".format(accuracy_score(y_test, pred_s)))"
   ]
  },
  {
   "cell_type": "code",
   "execution_count": 63,
   "id": "9af92203",
   "metadata": {},
   "outputs": [
    {
     "name": "stdout",
     "output_type": "stream",
     "text": [
      "Average score of Train Cross Validation is 0.7970569620253165\n",
      "Average score of Test Cross Validation is 0.8232558139534885\n"
     ]
    }
   ],
   "source": [
    "from sklearn.model_selection import cross_validate\n",
    "\n",
    "cv_results_svc = cross_validate(svc, X_train_dc,y_train, scoring=('accuracy'), return_train_score=True)\n",
    "print(f\"Average score of Train Cross Validation is {cv_results_svc['test_score'].mean()}\")\n",
    "\n",
    "cv_results_svc_test = cross_validate(svc, X_test_dc,y_test, scoring=('accuracy'), return_train_score=True)\n",
    "print(f\"Average score of Test Cross Validation is {cv_results_svc_test['test_score'].mean()}\")"
   ]
  },
  {
   "cell_type": "code",
   "execution_count": 64,
   "id": "24fda58d",
   "metadata": {},
   "outputs": [
    {
     "name": "stdout",
     "output_type": "stream",
     "text": [
      "              precision    recall  f1-score   support\n",
      "\n",
      "           N       0.94      0.49      0.65        67\n",
      "           Y       0.81      0.99      0.89       148\n",
      "\n",
      "    accuracy                           0.83       215\n",
      "   macro avg       0.88      0.74      0.77       215\n",
      "weighted avg       0.85      0.83      0.81       215\n",
      "\n"
     ]
    }
   ],
   "source": [
    "from sklearn.metrics import classification_report\n",
    "\n",
    "print(classification_report(y_test, pred))"
   ]
  },
  {
   "cell_type": "code",
   "execution_count": 65,
   "id": "d008936d",
   "metadata": {},
   "outputs": [],
   "source": [
    "from sklearn.svm import SVC\n",
    "from sklearn.model_selection import GridSearchCV"
   ]
  },
  {
   "cell_type": "code",
   "execution_count": 66,
   "id": "46eb5d31",
   "metadata": {},
   "outputs": [],
   "source": [
    "#creating hyperparameter grid\n",
    "param_grid = {'C': [1, 10, 100, 1000],\n",
    "              'gamma': [1, 0.1, 0.01, 0.001],\n",
    "              'kernel': ['rbf', 'sigmoid']}"
   ]
  },
  {
   "cell_type": "code",
   "execution_count": 67,
   "id": "d59b2079",
   "metadata": {},
   "outputs": [],
   "source": [
    "grid = GridSearchCV(SVC(), param_grid, refit = True, verbose = 2, cv=3)"
   ]
  },
  {
   "cell_type": "code",
   "execution_count": 68,
   "id": "0a601dd0",
   "metadata": {},
   "outputs": [
    {
     "name": "stdout",
     "output_type": "stream",
     "text": [
      "Fitting 3 folds for each of 32 candidates, totalling 96 fits\n",
      "[CV] END ...........................C=1, gamma=1, kernel=rbf; total time=   0.0s\n",
      "[CV] END ...........................C=1, gamma=1, kernel=rbf; total time=   0.0s\n",
      "[CV] END ...........................C=1, gamma=1, kernel=rbf; total time=   0.0s\n",
      "[CV] END .......................C=1, gamma=1, kernel=sigmoid; total time=   0.0s\n",
      "[CV] END .......................C=1, gamma=1, kernel=sigmoid; total time=   0.0s\n",
      "[CV] END .......................C=1, gamma=1, kernel=sigmoid; total time=   0.0s\n",
      "[CV] END .........................C=1, gamma=0.1, kernel=rbf; total time=   0.0s\n",
      "[CV] END .........................C=1, gamma=0.1, kernel=rbf; total time=   0.0s\n",
      "[CV] END .........................C=1, gamma=0.1, kernel=rbf; total time=   0.0s\n",
      "[CV] END .....................C=1, gamma=0.1, kernel=sigmoid; total time=   0.0s\n",
      "[CV] END .....................C=1, gamma=0.1, kernel=sigmoid; total time=   0.0s\n",
      "[CV] END .....................C=1, gamma=0.1, kernel=sigmoid; total time=   0.0s\n",
      "[CV] END ........................C=1, gamma=0.01, kernel=rbf; total time=   0.0s\n",
      "[CV] END ........................C=1, gamma=0.01, kernel=rbf; total time=   0.0s\n",
      "[CV] END ........................C=1, gamma=0.01, kernel=rbf; total time=   0.0s\n",
      "[CV] END ....................C=1, gamma=0.01, kernel=sigmoid; total time=   0.0s\n",
      "[CV] END ....................C=1, gamma=0.01, kernel=sigmoid; total time=   0.0s\n",
      "[CV] END ....................C=1, gamma=0.01, kernel=sigmoid; total time=   0.0s\n",
      "[CV] END .......................C=1, gamma=0.001, kernel=rbf; total time=   0.0s\n",
      "[CV] END .......................C=1, gamma=0.001, kernel=rbf; total time=   0.0s\n",
      "[CV] END .......................C=1, gamma=0.001, kernel=rbf; total time=   0.0s\n",
      "[CV] END ...................C=1, gamma=0.001, kernel=sigmoid; total time=   0.0s\n",
      "[CV] END ...................C=1, gamma=0.001, kernel=sigmoid; total time=   0.0s\n",
      "[CV] END ...................C=1, gamma=0.001, kernel=sigmoid; total time=   0.0s\n",
      "[CV] END ..........................C=10, gamma=1, kernel=rbf; total time=   0.0s\n",
      "[CV] END ..........................C=10, gamma=1, kernel=rbf; total time=   0.0s\n",
      "[CV] END ..........................C=10, gamma=1, kernel=rbf; total time=   0.0s\n",
      "[CV] END ......................C=10, gamma=1, kernel=sigmoid; total time=   0.0s\n",
      "[CV] END ......................C=10, gamma=1, kernel=sigmoid; total time=   0.0s\n",
      "[CV] END ......................C=10, gamma=1, kernel=sigmoid; total time=   0.0s\n",
      "[CV] END ........................C=10, gamma=0.1, kernel=rbf; total time=   0.0s\n",
      "[CV] END ........................C=10, gamma=0.1, kernel=rbf; total time=   0.0s\n",
      "[CV] END ........................C=10, gamma=0.1, kernel=rbf; total time=   0.0s\n",
      "[CV] END ....................C=10, gamma=0.1, kernel=sigmoid; total time=   0.0s\n",
      "[CV] END ....................C=10, gamma=0.1, kernel=sigmoid; total time=   0.0s\n",
      "[CV] END ....................C=10, gamma=0.1, kernel=sigmoid; total time=   0.0s\n",
      "[CV] END .......................C=10, gamma=0.01, kernel=rbf; total time=   0.0s\n",
      "[CV] END .......................C=10, gamma=0.01, kernel=rbf; total time=   0.0s\n",
      "[CV] END .......................C=10, gamma=0.01, kernel=rbf; total time=   0.0s\n",
      "[CV] END ...................C=10, gamma=0.01, kernel=sigmoid; total time=   0.0s\n",
      "[CV] END ...................C=10, gamma=0.01, kernel=sigmoid; total time=   0.0s\n",
      "[CV] END ...................C=10, gamma=0.01, kernel=sigmoid; total time=   0.0s\n",
      "[CV] END ......................C=10, gamma=0.001, kernel=rbf; total time=   0.0s\n",
      "[CV] END ......................C=10, gamma=0.001, kernel=rbf; total time=   0.0s\n",
      "[CV] END ......................C=10, gamma=0.001, kernel=rbf; total time=   0.0s\n",
      "[CV] END ..................C=10, gamma=0.001, kernel=sigmoid; total time=   0.0s\n",
      "[CV] END ..................C=10, gamma=0.001, kernel=sigmoid; total time=   0.0s\n",
      "[CV] END ..................C=10, gamma=0.001, kernel=sigmoid; total time=   0.0s\n",
      "[CV] END .........................C=100, gamma=1, kernel=rbf; total time=   0.0s\n",
      "[CV] END .........................C=100, gamma=1, kernel=rbf; total time=   0.0s\n",
      "[CV] END .........................C=100, gamma=1, kernel=rbf; total time=   0.0s\n",
      "[CV] END .....................C=100, gamma=1, kernel=sigmoid; total time=   0.0s\n",
      "[CV] END .....................C=100, gamma=1, kernel=sigmoid; total time=   0.0s\n",
      "[CV] END .....................C=100, gamma=1, kernel=sigmoid; total time=   0.0s\n",
      "[CV] END .......................C=100, gamma=0.1, kernel=rbf; total time=   0.0s\n",
      "[CV] END .......................C=100, gamma=0.1, kernel=rbf; total time=   0.0s\n",
      "[CV] END .......................C=100, gamma=0.1, kernel=rbf; total time=   0.0s\n",
      "[CV] END ...................C=100, gamma=0.1, kernel=sigmoid; total time=   0.0s\n",
      "[CV] END ...................C=100, gamma=0.1, kernel=sigmoid; total time=   0.0s\n",
      "[CV] END ...................C=100, gamma=0.1, kernel=sigmoid; total time=   0.0s\n",
      "[CV] END ......................C=100, gamma=0.01, kernel=rbf; total time=   0.0s\n",
      "[CV] END ......................C=100, gamma=0.01, kernel=rbf; total time=   0.0s\n",
      "[CV] END ......................C=100, gamma=0.01, kernel=rbf; total time=   0.0s\n",
      "[CV] END ..................C=100, gamma=0.01, kernel=sigmoid; total time=   0.0s\n",
      "[CV] END ..................C=100, gamma=0.01, kernel=sigmoid; total time=   0.0s\n",
      "[CV] END ..................C=100, gamma=0.01, kernel=sigmoid; total time=   0.0s\n",
      "[CV] END .....................C=100, gamma=0.001, kernel=rbf; total time=   0.0s\n",
      "[CV] END .....................C=100, gamma=0.001, kernel=rbf; total time=   0.0s\n",
      "[CV] END .....................C=100, gamma=0.001, kernel=rbf; total time=   0.0s\n",
      "[CV] END .................C=100, gamma=0.001, kernel=sigmoid; total time=   0.0s\n",
      "[CV] END .................C=100, gamma=0.001, kernel=sigmoid; total time=   0.0s\n",
      "[CV] END .................C=100, gamma=0.001, kernel=sigmoid; total time=   0.0s\n",
      "[CV] END ........................C=1000, gamma=1, kernel=rbf; total time=   0.0s\n",
      "[CV] END ........................C=1000, gamma=1, kernel=rbf; total time=   0.0s\n",
      "[CV] END ........................C=1000, gamma=1, kernel=rbf; total time=   0.0s\n",
      "[CV] END ....................C=1000, gamma=1, kernel=sigmoid; total time=   0.0s\n",
      "[CV] END ....................C=1000, gamma=1, kernel=sigmoid; total time=   0.0s\n",
      "[CV] END ....................C=1000, gamma=1, kernel=sigmoid; total time=   0.0s\n",
      "[CV] END ......................C=1000, gamma=0.1, kernel=rbf; total time=   0.0s\n",
      "[CV] END ......................C=1000, gamma=0.1, kernel=rbf; total time=   0.0s\n",
      "[CV] END ......................C=1000, gamma=0.1, kernel=rbf; total time=   0.0s\n",
      "[CV] END ..................C=1000, gamma=0.1, kernel=sigmoid; total time=   0.0s\n",
      "[CV] END ..................C=1000, gamma=0.1, kernel=sigmoid; total time=   0.0s\n",
      "[CV] END ..................C=1000, gamma=0.1, kernel=sigmoid; total time=   0.0s\n",
      "[CV] END .....................C=1000, gamma=0.01, kernel=rbf; total time=   0.0s\n",
      "[CV] END .....................C=1000, gamma=0.01, kernel=rbf; total time=   0.0s\n",
      "[CV] END .....................C=1000, gamma=0.01, kernel=rbf; total time=   0.0s\n",
      "[CV] END .................C=1000, gamma=0.01, kernel=sigmoid; total time=   0.0s\n",
      "[CV] END .................C=1000, gamma=0.01, kernel=sigmoid; total time=   0.0s\n",
      "[CV] END .................C=1000, gamma=0.01, kernel=sigmoid; total time=   0.0s\n",
      "[CV] END ....................C=1000, gamma=0.001, kernel=rbf; total time=   0.0s\n",
      "[CV] END ....................C=1000, gamma=0.001, kernel=rbf; total time=   0.0s\n",
      "[CV] END ....................C=1000, gamma=0.001, kernel=rbf; total time=   0.0s\n",
      "[CV] END ................C=1000, gamma=0.001, kernel=sigmoid; total time=   0.0s\n",
      "[CV] END ................C=1000, gamma=0.001, kernel=sigmoid; total time=   0.0s\n",
      "[CV] END ................C=1000, gamma=0.001, kernel=sigmoid; total time=   0.0s\n"
     ]
    },
    {
     "data": {
      "text/plain": [
       "GridSearchCV(cv=3, estimator=SVC(),\n",
       "             param_grid={'C': [1, 10, 100, 1000],\n",
       "                         'gamma': [1, 0.1, 0.01, 0.001],\n",
       "                         'kernel': ['rbf', 'sigmoid']},\n",
       "             verbose=2)"
      ]
     },
     "execution_count": 68,
     "metadata": {},
     "output_type": "execute_result"
    }
   ],
   "source": [
    "grid.fit(X_train_dc, y_train)"
   ]
  },
  {
   "cell_type": "code",
   "execution_count": 69,
   "id": "d4da06e0",
   "metadata": {},
   "outputs": [
    {
     "name": "stdout",
     "output_type": "stream",
     "text": [
      "Tuned SVC Parameters: {'C': 1, 'gamma': 0.1, 'kernel': 'rbf'}\n",
      "Best score is 0.7969924812030076\n"
     ]
    }
   ],
   "source": [
    "# Print the tuned parameters and score\n",
    "print(\"Tuned SVC Parameters: {}\".format(grid.best_params_)) \n",
    "print(\"Best score is {}\".format(grid.best_score_))"
   ]
  },
  {
   "cell_type": "code",
   "execution_count": 70,
   "id": "bf85699f",
   "metadata": {},
   "outputs": [],
   "source": [
    "svec = SVC(\n",
    "    C = grid.best_params_['C'],\n",
    "    gamma = grid.best_params_['gamma'],\n",
    "    kernel = grid.best_params_['kernel'])"
   ]
  },
  {
   "cell_type": "code",
   "execution_count": 71,
   "id": "9783c150",
   "metadata": {},
   "outputs": [
    {
     "data": {
      "text/plain": [
       "SVC(C=1, gamma=0.1)"
      ]
     },
     "execution_count": 71,
     "metadata": {},
     "output_type": "execute_result"
    }
   ],
   "source": [
    "svec.fit(X_train_dc,y_train)"
   ]
  },
  {
   "cell_type": "code",
   "execution_count": 72,
   "id": "a4b988fe",
   "metadata": {},
   "outputs": [
    {
     "name": "stdout",
     "output_type": "stream",
     "text": [
      "Accuracy of Tuned SVC on training set: 0.80\n",
      "Accuracy of Tuned SVC classifier on test set: 0.83\n",
      "Accuracy Score: 0.8325581395348837\n"
     ]
    }
   ],
   "source": [
    "from sklearn.metrics import accuracy_score\n",
    "print('Accuracy of Tuned SVC on training set: {:.2f}'.format(svec.score(X_train_dc, y_train)))\n",
    "print('Accuracy of Tuned SVC classifier on test set: {:.2f}'.format(svec.score(X_test_dc, y_test)))\n",
    "\n",
    "pred_s = svec.predict(X_test_dc)\n",
    "print(\"Accuracy Score: {}\".format(accuracy_score(y_test, pred_s)))"
   ]
  },
  {
   "cell_type": "code",
   "execution_count": 73,
   "id": "e7533475",
   "metadata": {},
   "outputs": [
    {
     "name": "stdout",
     "output_type": "stream",
     "text": [
      "Average score of Train Cross Validation is 0.7970569620253165\n",
      "Average score of Test Cross Validation is 0.8232558139534885\n"
     ]
    }
   ],
   "source": [
    "from sklearn.model_selection import cross_validate\n",
    "\n",
    "cv_results_svec = cross_validate(svec, X_train_dc,y_train, scoring=('accuracy'), return_train_score=True)\n",
    "print(f\"Average score of Train Cross Validation is {cv_results_svec['test_score'].mean()}\")\n",
    "\n",
    "cv_results_svec_test = cross_validate(svec, X_test_dc,y_test, scoring=('accuracy'), return_train_score=True)\n",
    "print(f\"Average score of Test Cross Validation is {cv_results_svec_test['test_score'].mean()}\")"
   ]
  },
  {
   "cell_type": "code",
   "execution_count": 74,
   "id": "ff59a6c1",
   "metadata": {},
   "outputs": [
    {
     "name": "stdout",
     "output_type": "stream",
     "text": [
      "              precision    recall  f1-score   support\n",
      "\n",
      "           N       0.94      0.49      0.65        67\n",
      "           Y       0.81      0.99      0.89       148\n",
      "\n",
      "    accuracy                           0.83       215\n",
      "   macro avg       0.88      0.74      0.77       215\n",
      "weighted avg       0.85      0.83      0.81       215\n",
      "\n"
     ]
    }
   ],
   "source": [
    "from sklearn.metrics import classification_report\n",
    "\n",
    "print(classification_report(y_test, pred_s))"
   ]
  },
  {
   "cell_type": "markdown",
   "id": "5258c0b2",
   "metadata": {},
   "source": [
    "## Decision Tree"
   ]
  },
  {
   "cell_type": "code",
   "execution_count": 75,
   "id": "ab102ec1",
   "metadata": {},
   "outputs": [],
   "source": [
    "from sklearn.tree import DecisionTreeClassifier\n",
    "from sklearn.model_selection import GridSearchCV\n",
    "\n",
    "# Creating the hyperparameter grid\n",
    "params_dt = {\n",
    "    'max_depth': [2,4,10],\n",
    "    'min_samples_leaf':[10,20,50],\n",
    "    'criterion':[\"gini\", \"entropy\"]\n",
    "}\n",
    "\n",
    "\n",
    "dt = DecisionTreeClassifier(random_state=22)\n",
    "\n",
    "#Instantiate the GridSearch model\n",
    "grid_search = GridSearchCV(estimator = dt, param_grid = params_dt, cv=4, verbose=1, scoring=\"accuracy\")"
   ]
  },
  {
   "cell_type": "code",
   "execution_count": 76,
   "id": "e663c026",
   "metadata": {},
   "outputs": [
    {
     "name": "stdout",
     "output_type": "stream",
     "text": [
      "Fitting 4 folds for each of 18 candidates, totalling 72 fits\n",
      "CPU times: total: 156 ms\n",
      "Wall time: 141 ms\n"
     ]
    },
    {
     "data": {
      "text/plain": [
       "GridSearchCV(cv=4, estimator=DecisionTreeClassifier(random_state=22),\n",
       "             param_grid={'criterion': ['gini', 'entropy'],\n",
       "                         'max_depth': [2, 4, 10],\n",
       "                         'min_samples_leaf': [10, 20, 50]},\n",
       "             scoring='accuracy', verbose=1)"
      ]
     },
     "execution_count": 76,
     "metadata": {},
     "output_type": "execute_result"
    }
   ],
   "source": [
    "%%time\n",
    "grid_search.fit(X_train_dc, y_train)"
   ]
  },
  {
   "cell_type": "code",
   "execution_count": 77,
   "id": "761b4db2",
   "metadata": {},
   "outputs": [
    {
     "name": "stdout",
     "output_type": "stream",
     "text": [
      "Tuned Decision Tree Parameters: {'criterion': 'gini', 'max_depth': 2, 'min_samples_leaf': 20}\n",
      "Best score is 0.7969949494949495\n"
     ]
    }
   ],
   "source": [
    "# Print the tuned parameters and score\n",
    "print(\"Tuned Decision Tree Parameters: {}\".format(grid_search.best_params_)) \n",
    "print(\"Best score is {}\".format(grid_search.best_score_))"
   ]
  },
  {
   "cell_type": "code",
   "execution_count": 78,
   "id": "1e6abbcb",
   "metadata": {},
   "outputs": [
    {
     "data": {
      "text/plain": [
       "DecisionTreeClassifier(max_depth=2, min_samples_leaf=20)"
      ]
     },
     "execution_count": 78,
     "metadata": {},
     "output_type": "execute_result"
    }
   ],
   "source": [
    "dtbest = DecisionTreeClassifier(criterion = grid_search.best_params_['criterion'],\n",
    "                                max_depth = grid_search.best_params_['max_depth'],\n",
    "                                min_samples_leaf = grid_search.best_params_['min_samples_leaf'])\n",
    "\n",
    "dtbest.fit(X_train_dc,y_train)"
   ]
  },
  {
   "cell_type": "code",
   "execution_count": 79,
   "id": "312ef653",
   "metadata": {},
   "outputs": [
    {
     "name": "stdout",
     "output_type": "stream",
     "text": [
      "Accuracy of Decision Tree classifier on training set: 0.80\n",
      "Accuracy of Decision Tree classifier on test set: 0.83\n",
      "Accuracy Score: 0.8325581395348837\n"
     ]
    }
   ],
   "source": [
    "from sklearn.metrics import accuracy_score\n",
    "print('Accuracy of Decision Tree classifier on training set: {:.2f}'.format(dtbest.score(X_train_dc, y_train)))\n",
    "print('Accuracy of Decision Tree classifier on test set: {:.2f}'.format(dtbest.score(X_test_dc, y_test)))\n",
    "\n",
    "pred = dtbest.predict(X_test_dc)\n",
    "print(\"Accuracy Score: {}\".format(accuracy_score(y_test, pred)))"
   ]
  },
  {
   "cell_type": "code",
   "execution_count": 80,
   "id": "206f2dab",
   "metadata": {},
   "outputs": [
    {
     "name": "stdout",
     "output_type": "stream",
     "text": [
      "Average score of Train Cross Validation is 0.7970569620253165\n",
      "Average score of Test Cross Validation is 0.8325581395348838\n"
     ]
    }
   ],
   "source": [
    "from sklearn.model_selection import cross_validate\n",
    "\n",
    "cv_results_dt = cross_validate(dtbest, X_train_dc,y_train, scoring=('accuracy'), return_train_score=True)\n",
    "print(f\"Average score of Train Cross Validation is {cv_results_dt['test_score'].mean()}\")\n",
    "\n",
    "cv_results_dt_test = cross_validate(dtbest, X_test_dc, y_test, scoring=('accuracy'), return_train_score=True)\n",
    "print(f\"Average score of Test Cross Validation is {cv_results_dt_test['test_score'].mean()}\")"
   ]
  },
  {
   "cell_type": "code",
   "execution_count": 81,
   "id": "230a43a2",
   "metadata": {},
   "outputs": [
    {
     "name": "stdout",
     "output_type": "stream",
     "text": [
      "              precision    recall  f1-score   support\n",
      "\n",
      "           N       0.94      0.49      0.65        67\n",
      "           Y       0.81      0.99      0.89       148\n",
      "\n",
      "    accuracy                           0.83       215\n",
      "   macro avg       0.88      0.74      0.77       215\n",
      "weighted avg       0.85      0.83      0.81       215\n",
      "\n"
     ]
    }
   ],
   "source": [
    "from sklearn.metrics import classification_report\n",
    "\n",
    "print(classification_report(y_test, pred))"
   ]
  },
  {
   "cell_type": "markdown",
   "id": "a4675d0a",
   "metadata": {},
   "source": [
    "## Random Forest"
   ]
  },
  {
   "cell_type": "code",
   "execution_count": 82,
   "id": "882c7d7c",
   "metadata": {},
   "outputs": [],
   "source": [
    "from sklearn.ensemble import RandomForestClassifier\n",
    "\n",
    "#Create Classifiers\n",
    "rf = RandomForestClassifier()\n",
    "\n",
    "params_rf = {'n_estimators' : [5,20,50],\n",
    "          'max_features' : ['auto', 'sqrt'],\n",
    "            'min_samples_split' : [2,5],\n",
    "            'min_samples_leaf' : [10,20,50],\n",
    "            'bootstrap':[True, False]}"
   ]
  },
  {
   "cell_type": "code",
   "execution_count": 83,
   "id": "d823b336",
   "metadata": {},
   "outputs": [],
   "source": [
    "rf_grid = GridSearchCV(estimator = rf, param_grid = params_rf, cv=4, verbose=1, scoring=\"accuracy\")"
   ]
  },
  {
   "cell_type": "code",
   "execution_count": 84,
   "id": "0c08bffb",
   "metadata": {},
   "outputs": [
    {
     "name": "stdout",
     "output_type": "stream",
     "text": [
      "Fitting 4 folds for each of 72 candidates, totalling 288 fits\n",
      "CPU times: total: 7.2 s\n",
      "Wall time: 7.21 s\n"
     ]
    },
    {
     "data": {
      "text/plain": [
       "GridSearchCV(cv=4, estimator=RandomForestClassifier(),\n",
       "             param_grid={'bootstrap': [True, False],\n",
       "                         'max_features': ['auto', 'sqrt'],\n",
       "                         'min_samples_leaf': [10, 20, 50],\n",
       "                         'min_samples_split': [2, 5],\n",
       "                         'n_estimators': [5, 20, 50]},\n",
       "             scoring='accuracy', verbose=1)"
      ]
     },
     "execution_count": 84,
     "metadata": {},
     "output_type": "execute_result"
    }
   ],
   "source": [
    "%%time\n",
    "rf_grid.fit(X_train_dc, y_train)"
   ]
  },
  {
   "cell_type": "code",
   "execution_count": 85,
   "id": "fe1cf18e",
   "metadata": {},
   "outputs": [
    {
     "name": "stdout",
     "output_type": "stream",
     "text": [
      "Tuned Decision Tree Parameters: {'bootstrap': True, 'max_features': 'auto', 'min_samples_leaf': 10, 'min_samples_split': 2, 'n_estimators': 20}\n",
      "Best score is 0.7969949494949495\n"
     ]
    }
   ],
   "source": [
    "# Print the tuned parameters and score\n",
    "print(\"Tuned Decision Tree Parameters: {}\".format(rf_grid.best_params_)) \n",
    "print(\"Best score is {}\".format(rf_grid.best_score_))"
   ]
  },
  {
   "cell_type": "code",
   "execution_count": 86,
   "id": "ee39d1ae",
   "metadata": {},
   "outputs": [],
   "source": [
    "rfbest = RandomForestClassifier(n_estimators = rf_grid.best_params_['n_estimators'],\n",
    "                                max_features = rf_grid.best_params_['max_features'],\n",
    "                                min_samples_split = rf_grid.best_params_['min_samples_leaf'],\n",
    "                                min_samples_leaf = rf_grid.best_params_['min_samples_leaf'],\n",
    "                                bootstrap = rf_grid.best_params_['bootstrap'])"
   ]
  },
  {
   "cell_type": "code",
   "execution_count": 87,
   "id": "dddb6b44",
   "metadata": {},
   "outputs": [
    {
     "data": {
      "text/plain": [
       "RandomForestClassifier(min_samples_leaf=10, min_samples_split=10,\n",
       "                       n_estimators=20)"
      ]
     },
     "execution_count": 87,
     "metadata": {},
     "output_type": "execute_result"
    }
   ],
   "source": [
    "rfbest.fit(X_train_dc,y_train)"
   ]
  },
  {
   "cell_type": "code",
   "execution_count": 88,
   "id": "791e6558",
   "metadata": {},
   "outputs": [
    {
     "name": "stdout",
     "output_type": "stream",
     "text": [
      "Accuracy of Random Forest classifier on training set: 0.80\n",
      "Accuracy of Random Forest classifier on test set: 0.83\n",
      "Accuracy Score: 0.8325581395348837\n"
     ]
    }
   ],
   "source": [
    "from sklearn.metrics import accuracy_score\n",
    "print('Accuracy of Random Forest classifier on training set: {:.2f}'.format(rfbest.score(X_train_dc, y_train)))\n",
    "print('Accuracy of Random Forest classifier on test set: {:.2f}'.format(rfbest.score(X_test_dc, y_test)))\n",
    "\n",
    "pred = rfbest.predict(X_test_dc)\n",
    "print(\"Accuracy Score: {}\".format(accuracy_score(y_test, pred)))"
   ]
  },
  {
   "cell_type": "code",
   "execution_count": 89,
   "id": "047e3208",
   "metadata": {},
   "outputs": [
    {
     "name": "stdout",
     "output_type": "stream",
     "text": [
      "Average score of Train Cross Validation is 0.7970569620253165\n",
      "Average score of Test Cross Validation is 0.8093023255813954\n"
     ]
    }
   ],
   "source": [
    "from sklearn.model_selection import cross_validate\n",
    "\n",
    "cv_results_rf = cross_validate(rfbest, X_train_dc,y_train, scoring=('accuracy'), return_train_score=True)\n",
    "print(f\"Average score of Train Cross Validation is {cv_results_rf['test_score'].mean()}\")\n",
    "\n",
    "cv_results_rf_test = cross_validate(rfbest, X_test_dc, y_test, scoring=('accuracy'), return_train_score=True)\n",
    "print(f\"Average score of Test Cross Validation is {cv_results_rf_test['test_score'].mean()}\")"
   ]
  },
  {
   "cell_type": "code",
   "execution_count": 90,
   "id": "7d3194f8",
   "metadata": {},
   "outputs": [
    {
     "name": "stdout",
     "output_type": "stream",
     "text": [
      "              precision    recall  f1-score   support\n",
      "\n",
      "           N       0.94      0.49      0.65        67\n",
      "           Y       0.81      0.99      0.89       148\n",
      "\n",
      "    accuracy                           0.83       215\n",
      "   macro avg       0.88      0.74      0.77       215\n",
      "weighted avg       0.85      0.83      0.81       215\n",
      "\n"
     ]
    }
   ],
   "source": [
    "from sklearn.metrics import classification_report\n",
    "\n",
    "print(classification_report(y_test, pred))"
   ]
  },
  {
   "cell_type": "markdown",
   "id": "1e4a78cd",
   "metadata": {},
   "source": [
    "## kNN"
   ]
  },
  {
   "cell_type": "code",
   "execution_count": 91,
   "id": "0ab2e4d1",
   "metadata": {},
   "outputs": [],
   "source": [
    "from sklearn.neighbors import KNeighborsClassifier\n",
    "\n",
    "knn = KNeighborsClassifier()\n",
    "\n",
    "#Creating Hyperparameter Tuning\n",
    "params_knn = { 'n_neighbors' : [3, 5],\n",
    "               'weights' : ['uniform','distance'],\n",
    "               'metric' : ['minkowski','euclidean','manhattan']}\n",
    "\n",
    "gs = GridSearchCV(KNeighborsClassifier(), params_knn, verbose = 1, cv=3)"
   ]
  },
  {
   "cell_type": "code",
   "execution_count": 92,
   "id": "9094807f",
   "metadata": {},
   "outputs": [
    {
     "name": "stdout",
     "output_type": "stream",
     "text": [
      "Fitting 3 folds for each of 12 candidates, totalling 36 fits\n",
      "CPU times: total: 156 ms\n",
      "Wall time: 144 ms\n"
     ]
    },
    {
     "data": {
      "text/plain": [
       "GridSearchCV(cv=3, estimator=KNeighborsClassifier(),\n",
       "             param_grid={'metric': ['minkowski', 'euclidean', 'manhattan'],\n",
       "                         'n_neighbors': [3, 5],\n",
       "                         'weights': ['uniform', 'distance']},\n",
       "             verbose=1)"
      ]
     },
     "execution_count": 92,
     "metadata": {},
     "output_type": "execute_result"
    }
   ],
   "source": [
    "%%time\n",
    "gs.fit(X_train_dc, y_train)"
   ]
  },
  {
   "cell_type": "code",
   "execution_count": 93,
   "id": "f9141d56",
   "metadata": {},
   "outputs": [
    {
     "name": "stdout",
     "output_type": "stream",
     "text": [
      "Tuned Decision Tree Parameters: {'metric': 'minkowski', 'n_neighbors': 5, 'weights': 'uniform'}\n",
      "Best score is 0.6992481203007519\n"
     ]
    }
   ],
   "source": [
    "# Print the tuned parameters and score\n",
    "print(\"Tuned Decision Tree Parameters: {}\".format(gs.best_params_)) \n",
    "\n",
    "print(\"Best score is {}\".format(gs.best_score_))"
   ]
  },
  {
   "cell_type": "code",
   "execution_count": 94,
   "id": "a169772a",
   "metadata": {},
   "outputs": [],
   "source": [
    "knnbest = KNeighborsClassifier(n_neighbors = gs.best_params_['n_neighbors'],\n",
    "                                weights = gs.best_params_['weights'],\n",
    "                                metric = gs.best_params_['metric'])"
   ]
  },
  {
   "cell_type": "code",
   "execution_count": 95,
   "id": "3188e3b6",
   "metadata": {},
   "outputs": [
    {
     "data": {
      "text/plain": [
       "KNeighborsClassifier()"
      ]
     },
     "execution_count": 95,
     "metadata": {},
     "output_type": "execute_result"
    }
   ],
   "source": [
    "knnbest.fit(X_train_dc,y_train)"
   ]
  },
  {
   "cell_type": "code",
   "execution_count": 96,
   "id": "beeeb0f1",
   "metadata": {},
   "outputs": [
    {
     "name": "stdout",
     "output_type": "stream",
     "text": [
      "Accuracy of KNN on training set: 0.77\n",
      "Accuracy of KNN on test set: 0.78\n",
      "Accuracy Score: 0.7813953488372093\n"
     ]
    }
   ],
   "source": [
    "from sklearn.metrics import accuracy_score\n",
    "print('Accuracy of KNN on training set: {:.2f}'.format(knnbest.score(X_train_dc, y_train)))\n",
    "print('Accuracy of KNN on test set: {:.2f}'.format(knnbest.score(X_test_dc, y_test)))\n",
    "\n",
    "pred = knnbest.predict(X_test_dc)\n",
    "print(\"Accuracy Score: {}\".format(accuracy_score(y_test, pred)))"
   ]
  },
  {
   "cell_type": "code",
   "execution_count": 97,
   "id": "23691bb9",
   "metadata": {},
   "outputs": [
    {
     "name": "stdout",
     "output_type": "stream",
     "text": [
      "Average score of Train Cross Validation is 0.7193670886075949\n",
      "Average score of Test Cross Validation is 0.7674418604651163\n"
     ]
    }
   ],
   "source": [
    "from sklearn.model_selection import cross_validate\n",
    "\n",
    "cv_results_knn = cross_validate(knnbest, X_train_dc,y_train, scoring=('accuracy'), return_train_score=True)\n",
    "print(f\"Average score of Train Cross Validation is {cv_results_knn['test_score'].mean()}\")\n",
    "\n",
    "cv_results_knn_test = cross_validate(knnbest, X_test_dc,y_test, scoring=('accuracy'), return_train_score=True)\n",
    "print(f\"Average score of Test Cross Validation is {cv_results_knn_test['test_score'].mean()}\")"
   ]
  },
  {
   "cell_type": "code",
   "execution_count": 98,
   "id": "891f096b",
   "metadata": {},
   "outputs": [
    {
     "name": "stdout",
     "output_type": "stream",
     "text": [
      "              precision    recall  f1-score   support\n",
      "\n",
      "           N       0.76      0.43      0.55        67\n",
      "           Y       0.79      0.94      0.86       148\n",
      "\n",
      "    accuracy                           0.78       215\n",
      "   macro avg       0.77      0.69      0.70       215\n",
      "weighted avg       0.78      0.78      0.76       215\n",
      "\n"
     ]
    }
   ],
   "source": [
    "from sklearn.metrics import classification_report\n",
    "\n",
    "print(classification_report(y_test, pred))"
   ]
  },
  {
   "cell_type": "markdown",
   "id": "8b15b65c",
   "metadata": {},
   "source": [
    "## Gradient Boosting Classifier"
   ]
  },
  {
   "cell_type": "code",
   "execution_count": 99,
   "id": "c825009d",
   "metadata": {},
   "outputs": [],
   "source": [
    "from sklearn.ensemble import GradientBoostingClassifier\n",
    "\n",
    "gbc = GradientBoostingClassifier()\n",
    "parameters = {\n",
    "    \"n_estimators\":[5,50,250],\n",
    "    \"max_depth\":[1,3,5,7],\n",
    "    \"learning_rate\":[0.01,0.1,1]}\n",
    "\n",
    "gbcv = GridSearchCV(gbc,parameters,cv=5)"
   ]
  },
  {
   "cell_type": "code",
   "execution_count": 100,
   "id": "b809bd5e",
   "metadata": {},
   "outputs": [
    {
     "name": "stdout",
     "output_type": "stream",
     "text": [
      "CPU times: total: 15.2 s\n",
      "Wall time: 15.3 s\n"
     ]
    },
    {
     "data": {
      "text/plain": [
       "GridSearchCV(cv=5, estimator=GradientBoostingClassifier(),\n",
       "             param_grid={'learning_rate': [0.01, 0.1, 1],\n",
       "                         'max_depth': [1, 3, 5, 7],\n",
       "                         'n_estimators': [5, 50, 250]})"
      ]
     },
     "execution_count": 100,
     "metadata": {},
     "output_type": "execute_result"
    }
   ],
   "source": [
    "%%time\n",
    "gbcv.fit(X_train_dc, y_train)"
   ]
  },
  {
   "cell_type": "code",
   "execution_count": 101,
   "id": "f98b9cd4",
   "metadata": {},
   "outputs": [
    {
     "name": "stdout",
     "output_type": "stream",
     "text": [
      "Tuned Gradient Boosting Classifier Parameters: {'learning_rate': 0.01, 'max_depth': 1, 'n_estimators': 50}\n",
      "Best score is 0.7970569620253165\n"
     ]
    }
   ],
   "source": [
    "# Print the tuned parameters and score\n",
    "print(\"Tuned Gradient Boosting Classifier Parameters: {}\".format(gbcv.best_params_)) \n",
    "\n",
    "print(\"Best score is {}\".format(gbcv.best_score_))"
   ]
  },
  {
   "cell_type": "code",
   "execution_count": 102,
   "id": "a941c219",
   "metadata": {},
   "outputs": [],
   "source": [
    "gbcbest = GradientBoostingClassifier(learning_rate = gbcv.best_params_['learning_rate'],\n",
    "                                max_depth = gbcv.best_params_['max_depth'],\n",
    "                                n_estimators = gbcv.best_params_['n_estimators'])"
   ]
  },
  {
   "cell_type": "code",
   "execution_count": 103,
   "id": "b42c180e",
   "metadata": {},
   "outputs": [
    {
     "data": {
      "text/plain": [
       "GradientBoostingClassifier(learning_rate=0.01, max_depth=1, n_estimators=50)"
      ]
     },
     "execution_count": 103,
     "metadata": {},
     "output_type": "execute_result"
    }
   ],
   "source": [
    "gbcbest.fit(X_train_dc,y_train)"
   ]
  },
  {
   "cell_type": "code",
   "execution_count": 104,
   "id": "7ab05b12",
   "metadata": {},
   "outputs": [
    {
     "name": "stdout",
     "output_type": "stream",
     "text": [
      "Accuracy of Gradient Boost Classifier on training set: 0.80\n",
      "Accuracy of Gradient Boost Classifier on test set: 0.83\n",
      "Accuracy Score: 0.8325581395348837\n"
     ]
    }
   ],
   "source": [
    "from sklearn.metrics import accuracy_score\n",
    "print('Accuracy of Gradient Boost Classifier on training set: {:.2f}'.format(gbcbest.score(X_train_dc, y_train)))\n",
    "print('Accuracy of Gradient Boost Classifier on test set: {:.2f}'.format(gbcbest.score(X_test_dc, y_test)))\n",
    "\n",
    "pred = gbcbest.predict(X_test_dc)\n",
    "print(\"Accuracy Score: {}\".format(accuracy_score(y_test, pred)))"
   ]
  },
  {
   "cell_type": "code",
   "execution_count": 105,
   "id": "81f1178a",
   "metadata": {},
   "outputs": [
    {
     "name": "stdout",
     "output_type": "stream",
     "text": [
      "Average score of Train Cross Validation is 0.7970569620253165\n",
      "Average score of Test Cross Validation is 0.8325581395348838\n"
     ]
    }
   ],
   "source": [
    "from sklearn.model_selection import cross_validate\n",
    "\n",
    "cv_results_gbc = cross_validate(gbcbest, X_train_dc,y_train, scoring=('accuracy'), return_train_score=True)\n",
    "print(f\"Average score of Train Cross Validation is {cv_results_gbc['test_score'].mean()}\")\n",
    "\n",
    "cv_results_gbc_test = cross_validate(gbcbest, X_test_dc,y_test, scoring=('accuracy'), return_train_score=True)\n",
    "print(f\"Average score of Test Cross Validation is {cv_results_gbc_test['test_score'].mean()}\")"
   ]
  },
  {
   "cell_type": "code",
   "execution_count": 106,
   "id": "24cf0489",
   "metadata": {
    "scrolled": true
   },
   "outputs": [
    {
     "name": "stdout",
     "output_type": "stream",
     "text": [
      "              precision    recall  f1-score   support\n",
      "\n",
      "           N       0.94      0.49      0.65        67\n",
      "           Y       0.81      0.99      0.89       148\n",
      "\n",
      "    accuracy                           0.83       215\n",
      "   macro avg       0.88      0.74      0.77       215\n",
      "weighted avg       0.85      0.83      0.81       215\n",
      "\n"
     ]
    }
   ],
   "source": [
    "from sklearn.metrics import classification_report\n",
    "\n",
    "print(classification_report(y_test, pred))"
   ]
  },
  {
   "cell_type": "markdown",
   "id": "c7892e39",
   "metadata": {},
   "source": [
    "1. Logreg 0.83\n",
    "2. SVM base 0.83\n",
    "3. SVM tuned 0.83\n",
    "4. DT 0.83\n",
    "5. RF 0.83 (low cv)\n",
    "6. kNN 0.78\n",
    "7. GBC 0.83"
   ]
  },
  {
   "cell_type": "markdown",
   "id": "c03ee65b",
   "metadata": {},
   "source": [
    "## Building Pipeline"
   ]
  },
  {
   "cell_type": "code",
   "execution_count": 107,
   "id": "02fb110a",
   "metadata": {},
   "outputs": [],
   "source": [
    "from sklearn.pipeline import make_pipeline\n",
    "from sklearn.compose import ColumnTransformer\n",
    "import pickle\n",
    "\n",
    "num_pipeline = make_pipeline(MinMaxScaler())\n",
    "cat_pipeline = make_pipeline(OrdinalEncoder())\n",
    "\n",
    "df_pipeline = ColumnTransformer([('pipe_num', num_pipeline, num_columns),\n",
    "                                 ('pipe_cat', cat_pipeline, cat_columns)])\n",
    "\n",
    "#Final Pipeline\n",
    "pipe_log_reg = make_pipeline(df_pipeline, lr)\n"
   ]
  },
  {
   "cell_type": "code",
   "execution_count": 108,
   "id": "92ab9693",
   "metadata": {},
   "outputs": [
    {
     "name": "stdout",
     "output_type": "stream",
     "text": [
      "Accuracy of Logistic regression classifier on training set: 0.80\n",
      "Accuracy of Logistic regression classifier on test set: 0.83\n",
      "Accuracy Score: 0.8325581395348837\n",
      "Average score of Train Cross Validation is 0.7945569620253164\n",
      "Average score of Test Cross Validation is 0.8325581395348838\n",
      "              precision    recall  f1-score   support\n",
      "\n",
      "           N       0.94      0.49      0.65        67\n",
      "           Y       0.81      0.99      0.89       148\n",
      "\n",
      "    accuracy                           0.83       215\n",
      "   macro avg       0.88      0.74      0.77       215\n",
      "weighted avg       0.85      0.83      0.81       215\n",
      "\n"
     ]
    }
   ],
   "source": [
    "pipe_log_reg.fit(X_train_t, y_train)\n",
    "\n",
    "#Predict Error on Train-Set and test-set\n",
    "y_pred_train_lr_pipe = pipe_log_reg.predict(X_train_t)\n",
    "y_pred_test_lr_pipe = pipe_log_reg.predict(X_test_t)\n",
    "\n",
    "#Evaluation of Error\n",
    "from sklearn.metrics import accuracy_score\n",
    "# print('Accuracy of Tuned SVC on training set: {:.2f}'.format(svec.score(X_train_dc, y_train)))\n",
    "print('Accuracy of Logistic regression classifier on training set: {:.2f}'.format(lr.score(X_train_dc, y_train)))\n",
    "print('Accuracy of Logistic regression classifier on test set: {:.2f}'.format(lr.score(X_test_dc, y_test)))\n",
    "print(\"Accuracy Score: {}\".format(accuracy_score(y_test, y_pred_test_lr_pipe)))\n",
    "\n",
    "from sklearn.model_selection import cross_validate\n",
    "\n",
    "cv_results_lr = cross_validate(lr, X_train_dc,y_train, scoring=('accuracy'), return_train_score=True)\n",
    "print(f\"Average score of Train Cross Validation is {cv_results_lr['test_score'].mean()}\")\n",
    "\n",
    "cv_results_logreg_test = cross_validate(lr, X_test_dc,y_test, scoring=('accuracy'), return_train_score=True)\n",
    "print(f\"Average score of Test Cross Validation is {cv_results_logreg_test['test_score'].mean()}\")\n",
    "\n",
    "from sklearn.metrics import classification_report\n",
    "\n",
    "print(classification_report(y_test, y_pred_test_lr_pipe))"
   ]
  },
  {
   "cell_type": "code",
   "execution_count": 109,
   "id": "05958308",
   "metadata": {},
   "outputs": [],
   "source": [
    "with open(\"full_pipe.pkl\", \"wb\") as f:\n",
    "    pickle.dump(pipe_log_reg, f)"
   ]
  },
  {
   "cell_type": "markdown",
   "id": "e4d9f8ca",
   "metadata": {},
   "source": [
    "## Model Inference"
   ]
  },
  {
   "cell_type": "code",
   "execution_count": 110,
   "id": "09e2bbaf",
   "metadata": {},
   "outputs": [],
   "source": [
    "data_inf = pd.read_csv('test_Y3wMUE5_7gLdaTN.csv')"
   ]
  },
  {
   "cell_type": "code",
   "execution_count": 111,
   "id": "4f65f363",
   "metadata": {},
   "outputs": [
    {
     "data": {
      "text/plain": [
       "Loan_ID               0\n",
       "Gender               11\n",
       "Married               0\n",
       "Dependents           10\n",
       "Education             0\n",
       "Self_Employed        23\n",
       "ApplicantIncome       0\n",
       "CoapplicantIncome     0\n",
       "LoanAmount            5\n",
       "Loan_Amount_Term      6\n",
       "Credit_History       29\n",
       "Property_Area         0\n",
       "dtype: int64"
      ]
     },
     "execution_count": 111,
     "metadata": {},
     "output_type": "execute_result"
    }
   ],
   "source": [
    "data_inf.isna().sum()"
   ]
  },
  {
   "cell_type": "code",
   "execution_count": 112,
   "id": "dfc46902",
   "metadata": {},
   "outputs": [],
   "source": [
    "from feature_engine.imputation import CategoricalImputer\n",
    "\n",
    "# set up the imputer\n",
    "imputer = CategoricalImputer(variables=['Gender', 'Self_Employed', 'Married', 'Dependents'])\n",
    "\n",
    "# fit the imputer\n",
    "imputer.fit(data_inf)\n",
    "\n",
    "# transform the data\n",
    "data_inf_t = imputer.transform(data_inf)"
   ]
  },
  {
   "cell_type": "code",
   "execution_count": 113,
   "id": "f8d3dc21",
   "metadata": {},
   "outputs": [],
   "source": [
    "numerical_features = [column_name for column_name in data_inf_t.columns if data_inf_t[column_name].dtype == 'float64']\n",
    "for feature in numerical_features:\n",
    "    if -0.5 <= data_inf_t[feature].skew() <= 0.5:\n",
    "        mean = data_inf_t[feature].mean()\n",
    "        data_inf_t[feature].fillna(mean, inplace=True)\n",
    "\n",
    "    else:\n",
    "        median = data_inf_t[feature].median()\n",
    "        data_inf_t[feature].fillna(median, inplace=True)"
   ]
  },
  {
   "cell_type": "code",
   "execution_count": 114,
   "id": "3a8f109c",
   "metadata": {},
   "outputs": [
    {
     "data": {
      "text/plain": [
       "Loan_ID              0\n",
       "Gender               0\n",
       "Married              0\n",
       "Dependents           0\n",
       "Education            0\n",
       "Self_Employed        0\n",
       "ApplicantIncome      0\n",
       "CoapplicantIncome    0\n",
       "LoanAmount           0\n",
       "Loan_Amount_Term     0\n",
       "Credit_History       0\n",
       "Property_Area        0\n",
       "dtype: int64"
      ]
     },
     "execution_count": 114,
     "metadata": {},
     "output_type": "execute_result"
    }
   ],
   "source": [
    "data_inf_t.isna().sum()"
   ]
  },
  {
   "cell_type": "markdown",
   "id": "25acd36f",
   "metadata": {},
   "source": []
  },
  {
   "cell_type": "code",
   "execution_count": 115,
   "id": "4322ac8c",
   "metadata": {},
   "outputs": [],
   "source": [
    "data_infs = data_inf_t.drop(columns=[\"Loan_ID\"])"
   ]
  },
  {
   "cell_type": "code",
   "execution_count": 116,
   "id": "a128cbeb",
   "metadata": {},
   "outputs": [],
   "source": [
    "with open(\"full_pipe.pkl\", \"rb\") as f:\n",
    "    pipeline = pickle.load(f)"
   ]
  },
  {
   "cell_type": "code",
   "execution_count": 117,
   "id": "9e61e7cf",
   "metadata": {},
   "outputs": [],
   "source": [
    "y_pred_inf = pipeline.predict(data_infs)\n",
    "y_pred_inf = pd.DataFrame(y_pred_inf, columns=['Loan Acceptance-Prediction'])"
   ]
  },
  {
   "cell_type": "code",
   "execution_count": 118,
   "id": "602bfaf1",
   "metadata": {},
   "outputs": [],
   "source": [
    "# Concate to Original Dataframe\n",
    "df_inf_result = pd.concat([data_inf, y_pred_inf], axis=1)"
   ]
  },
  {
   "cell_type": "code",
   "execution_count": 119,
   "id": "ef18a61b",
   "metadata": {},
   "outputs": [
    {
     "data": {
      "text/html": [
       "<div>\n",
       "<style scoped>\n",
       "    .dataframe tbody tr th:only-of-type {\n",
       "        vertical-align: middle;\n",
       "    }\n",
       "\n",
       "    .dataframe tbody tr th {\n",
       "        vertical-align: top;\n",
       "    }\n",
       "\n",
       "    .dataframe thead th {\n",
       "        text-align: right;\n",
       "    }\n",
       "</style>\n",
       "<table border=\"1\" class=\"dataframe\">\n",
       "  <thead>\n",
       "    <tr style=\"text-align: right;\">\n",
       "      <th></th>\n",
       "      <th>Loan_ID</th>\n",
       "      <th>Gender</th>\n",
       "      <th>Married</th>\n",
       "      <th>Dependents</th>\n",
       "      <th>Education</th>\n",
       "      <th>Self_Employed</th>\n",
       "      <th>ApplicantIncome</th>\n",
       "      <th>CoapplicantIncome</th>\n",
       "      <th>LoanAmount</th>\n",
       "      <th>Loan_Amount_Term</th>\n",
       "      <th>Credit_History</th>\n",
       "      <th>Property_Area</th>\n",
       "      <th>Loan Acceptance-Prediction</th>\n",
       "    </tr>\n",
       "  </thead>\n",
       "  <tbody>\n",
       "    <tr>\n",
       "      <th>0</th>\n",
       "      <td>LP001015</td>\n",
       "      <td>Male</td>\n",
       "      <td>Yes</td>\n",
       "      <td>0</td>\n",
       "      <td>Graduate</td>\n",
       "      <td>No</td>\n",
       "      <td>5720</td>\n",
       "      <td>0</td>\n",
       "      <td>110.0</td>\n",
       "      <td>360.0</td>\n",
       "      <td>1.0</td>\n",
       "      <td>Urban</td>\n",
       "      <td>Y</td>\n",
       "    </tr>\n",
       "    <tr>\n",
       "      <th>1</th>\n",
       "      <td>LP001022</td>\n",
       "      <td>Male</td>\n",
       "      <td>Yes</td>\n",
       "      <td>1</td>\n",
       "      <td>Graduate</td>\n",
       "      <td>No</td>\n",
       "      <td>3076</td>\n",
       "      <td>1500</td>\n",
       "      <td>126.0</td>\n",
       "      <td>360.0</td>\n",
       "      <td>1.0</td>\n",
       "      <td>Urban</td>\n",
       "      <td>Y</td>\n",
       "    </tr>\n",
       "    <tr>\n",
       "      <th>2</th>\n",
       "      <td>LP001031</td>\n",
       "      <td>Male</td>\n",
       "      <td>Yes</td>\n",
       "      <td>2</td>\n",
       "      <td>Graduate</td>\n",
       "      <td>No</td>\n",
       "      <td>5000</td>\n",
       "      <td>1800</td>\n",
       "      <td>208.0</td>\n",
       "      <td>360.0</td>\n",
       "      <td>1.0</td>\n",
       "      <td>Urban</td>\n",
       "      <td>Y</td>\n",
       "    </tr>\n",
       "    <tr>\n",
       "      <th>3</th>\n",
       "      <td>LP001035</td>\n",
       "      <td>Male</td>\n",
       "      <td>Yes</td>\n",
       "      <td>2</td>\n",
       "      <td>Graduate</td>\n",
       "      <td>No</td>\n",
       "      <td>2340</td>\n",
       "      <td>2546</td>\n",
       "      <td>100.0</td>\n",
       "      <td>360.0</td>\n",
       "      <td>NaN</td>\n",
       "      <td>Urban</td>\n",
       "      <td>Y</td>\n",
       "    </tr>\n",
       "    <tr>\n",
       "      <th>4</th>\n",
       "      <td>LP001051</td>\n",
       "      <td>Male</td>\n",
       "      <td>No</td>\n",
       "      <td>0</td>\n",
       "      <td>Not Graduate</td>\n",
       "      <td>No</td>\n",
       "      <td>3276</td>\n",
       "      <td>0</td>\n",
       "      <td>78.0</td>\n",
       "      <td>360.0</td>\n",
       "      <td>1.0</td>\n",
       "      <td>Urban</td>\n",
       "      <td>Y</td>\n",
       "    </tr>\n",
       "    <tr>\n",
       "      <th>...</th>\n",
       "      <td>...</td>\n",
       "      <td>...</td>\n",
       "      <td>...</td>\n",
       "      <td>...</td>\n",
       "      <td>...</td>\n",
       "      <td>...</td>\n",
       "      <td>...</td>\n",
       "      <td>...</td>\n",
       "      <td>...</td>\n",
       "      <td>...</td>\n",
       "      <td>...</td>\n",
       "      <td>...</td>\n",
       "      <td>...</td>\n",
       "    </tr>\n",
       "    <tr>\n",
       "      <th>362</th>\n",
       "      <td>LP002971</td>\n",
       "      <td>Male</td>\n",
       "      <td>Yes</td>\n",
       "      <td>3+</td>\n",
       "      <td>Not Graduate</td>\n",
       "      <td>Yes</td>\n",
       "      <td>4009</td>\n",
       "      <td>1777</td>\n",
       "      <td>113.0</td>\n",
       "      <td>360.0</td>\n",
       "      <td>1.0</td>\n",
       "      <td>Urban</td>\n",
       "      <td>Y</td>\n",
       "    </tr>\n",
       "    <tr>\n",
       "      <th>363</th>\n",
       "      <td>LP002975</td>\n",
       "      <td>Male</td>\n",
       "      <td>Yes</td>\n",
       "      <td>0</td>\n",
       "      <td>Graduate</td>\n",
       "      <td>No</td>\n",
       "      <td>4158</td>\n",
       "      <td>709</td>\n",
       "      <td>115.0</td>\n",
       "      <td>360.0</td>\n",
       "      <td>1.0</td>\n",
       "      <td>Urban</td>\n",
       "      <td>Y</td>\n",
       "    </tr>\n",
       "    <tr>\n",
       "      <th>364</th>\n",
       "      <td>LP002980</td>\n",
       "      <td>Male</td>\n",
       "      <td>No</td>\n",
       "      <td>0</td>\n",
       "      <td>Graduate</td>\n",
       "      <td>No</td>\n",
       "      <td>3250</td>\n",
       "      <td>1993</td>\n",
       "      <td>126.0</td>\n",
       "      <td>360.0</td>\n",
       "      <td>NaN</td>\n",
       "      <td>Semiurban</td>\n",
       "      <td>Y</td>\n",
       "    </tr>\n",
       "    <tr>\n",
       "      <th>365</th>\n",
       "      <td>LP002986</td>\n",
       "      <td>Male</td>\n",
       "      <td>Yes</td>\n",
       "      <td>0</td>\n",
       "      <td>Graduate</td>\n",
       "      <td>No</td>\n",
       "      <td>5000</td>\n",
       "      <td>2393</td>\n",
       "      <td>158.0</td>\n",
       "      <td>360.0</td>\n",
       "      <td>1.0</td>\n",
       "      <td>Rural</td>\n",
       "      <td>Y</td>\n",
       "    </tr>\n",
       "    <tr>\n",
       "      <th>366</th>\n",
       "      <td>LP002989</td>\n",
       "      <td>Male</td>\n",
       "      <td>No</td>\n",
       "      <td>0</td>\n",
       "      <td>Graduate</td>\n",
       "      <td>Yes</td>\n",
       "      <td>9200</td>\n",
       "      <td>0</td>\n",
       "      <td>98.0</td>\n",
       "      <td>180.0</td>\n",
       "      <td>1.0</td>\n",
       "      <td>Rural</td>\n",
       "      <td>Y</td>\n",
       "    </tr>\n",
       "  </tbody>\n",
       "</table>\n",
       "<p>367 rows × 13 columns</p>\n",
       "</div>"
      ],
      "text/plain": [
       "      Loan_ID Gender Married Dependents     Education Self_Employed  \\\n",
       "0    LP001015   Male     Yes          0      Graduate            No   \n",
       "1    LP001022   Male     Yes          1      Graduate            No   \n",
       "2    LP001031   Male     Yes          2      Graduate            No   \n",
       "3    LP001035   Male     Yes          2      Graduate            No   \n",
       "4    LP001051   Male      No          0  Not Graduate            No   \n",
       "..        ...    ...     ...        ...           ...           ...   \n",
       "362  LP002971   Male     Yes         3+  Not Graduate           Yes   \n",
       "363  LP002975   Male     Yes          0      Graduate            No   \n",
       "364  LP002980   Male      No          0      Graduate            No   \n",
       "365  LP002986   Male     Yes          0      Graduate            No   \n",
       "366  LP002989   Male      No          0      Graduate           Yes   \n",
       "\n",
       "     ApplicantIncome  CoapplicantIncome  LoanAmount  Loan_Amount_Term  \\\n",
       "0               5720                  0       110.0             360.0   \n",
       "1               3076               1500       126.0             360.0   \n",
       "2               5000               1800       208.0             360.0   \n",
       "3               2340               2546       100.0             360.0   \n",
       "4               3276                  0        78.0             360.0   \n",
       "..               ...                ...         ...               ...   \n",
       "362             4009               1777       113.0             360.0   \n",
       "363             4158                709       115.0             360.0   \n",
       "364             3250               1993       126.0             360.0   \n",
       "365             5000               2393       158.0             360.0   \n",
       "366             9200                  0        98.0             180.0   \n",
       "\n",
       "     Credit_History Property_Area Loan Acceptance-Prediction  \n",
       "0               1.0         Urban                          Y  \n",
       "1               1.0         Urban                          Y  \n",
       "2               1.0         Urban                          Y  \n",
       "3               NaN         Urban                          Y  \n",
       "4               1.0         Urban                          Y  \n",
       "..              ...           ...                        ...  \n",
       "362             1.0         Urban                          Y  \n",
       "363             1.0         Urban                          Y  \n",
       "364             NaN     Semiurban                          Y  \n",
       "365             1.0         Rural                          Y  \n",
       "366             1.0         Rural                          Y  \n",
       "\n",
       "[367 rows x 13 columns]"
      ]
     },
     "execution_count": 119,
     "metadata": {},
     "output_type": "execute_result"
    }
   ],
   "source": [
    "df_inf_result"
   ]
  },
  {
   "cell_type": "markdown",
   "id": "48cac08d",
   "metadata": {},
   "source": [
    "## Kesimpulan"
   ]
  },
  {
   "cell_type": "markdown",
   "id": "2d0fc70d",
   "metadata": {},
   "source": [
    "### EDA Analysis"
   ]
  },
  {
   "cell_type": "markdown",
   "id": "83811d07",
   "metadata": {},
   "source": [
    "Dari hasil EDA, ada beberapa poin yang bisa diambil."
   ]
  },
  {
   "cell_type": "markdown",
   "id": "1568c8b1",
   "metadata": {},
   "source": [
    "Dataset ini merupakan dataset peminjaman uang. Sehingga seperti yang biasa kita ketahui, ada beberapa hal yang selalu dikonsiderasi oleh pihak _lender_ pada calon peminjamnya seperti Pekerjaan dan tingkat pendidikan."
   ]
  },
  {
   "cell_type": "markdown",
   "id": "b9b92bd3",
   "metadata": {},
   "source": [
    "Poin pekerjaan ini sangat terlihat pada EDA dimana orang-orang yang **tidak Self-Employed** cenderung di approve request peminjaman uangnya. \n",
    "Sebenarnya hal ini cukup wajar karena di Indonesia sendiri, wirausahawan merupakan salah satu jenis pekerjaan yang sulit mendapatkan hutang bank (misal KPR)."
   ]
  },
  {
   "cell_type": "markdown",
   "id": "c14f7a1e",
   "metadata": {},
   "source": [
    "Kemudian disini, juga terlihat bahwa pihak peminjam lebih menyukai calon peminjam yang memiliki tingkat pendidikan graduate (atau pascasarjana) dibanding yang undergraduate. dan juga lebih banyak peminjam laki-laki yang di approve daripada peminjam perempuan."
   ]
  },
  {
   "cell_type": "markdown",
   "id": "566844eb",
   "metadata": {},
   "source": [
    "Namun untuk dua hal diatas ini bisa jadi karena rasio peminjam laki-laki lebih banyak dan rasio peminjam Graduate lebih banyak."
   ]
  },
  {
   "cell_type": "markdown",
   "id": "53157922",
   "metadata": {},
   "source": [
    "### Model Analysis"
   ]
  },
  {
   "cell_type": "markdown",
   "id": "754df033",
   "metadata": {},
   "source": [
    "Untuk model analysis, saya disini mencoba beberapa macam modelling dan yang cukup mengejutkan adalah hampir semua nilai akurasinya seragam:"
   ]
  },
  {
   "cell_type": "markdown",
   "id": "0f4e26f7",
   "metadata": {},
   "source": [
    "1. Logreg 0.83\n",
    "2. SVM base 0.83\n",
    "3. SVM tuned 0.83\n",
    "4. DT 0.83\n",
    "5. RF 0.83 (low cv)\n",
    "6. kNN 0.78\n",
    "7. GBC 0.83"
   ]
  },
  {
   "cell_type": "markdown",
   "id": "9c49809d",
   "metadata": {},
   "source": [
    "Sehingga sebenarnya bisa dikatakan bahwa untuk mengimprove akurasi yang harus dilakukan adalah memperhatikan tahapan Data Cleaningnya daripada memodifikasi hyperparameter tuningnya."
   ]
  },
  {
   "cell_type": "markdown",
   "id": "516ab311",
   "metadata": {},
   "source": [
    "Pada model inference saya menggunakan Logistic Regression karena mempertimbangkan simplisitas dan waktu execute, dengan akurasi yang sama, Logistic Regression lebih unggul."
   ]
  },
  {
   "cell_type": "markdown",
   "id": "417ced8d",
   "metadata": {},
   "source": [
    "## Overall Analysis"
   ]
  },
  {
   "cell_type": "markdown",
   "id": "061f31d2",
   "metadata": {},
   "source": [
    "- Dari hasil EDA sendiri sebenarnya sudah terlihat bahwa dataset ini tidak _imbalance_ dan cukup representatif dengan kondisi sebenarnya dari regulasi yang ada pada perusahaan peminjaman uang (atau bank)\n",
    "- Ada beberapa hal yang bisa diperhatikan lagi seperti status pernikahan sebenarnya tidak terlalu memengaruhi dan juga lokasi properti. Karena dari hasil EDA sendiri juga terlihat bahwa baik lokasi pada Urban, Semiurban, ataupun Rural, seluruhnya hampir sama saja mendapatkan lending.\n",
    "- Secara garis besar, dataset ini merupakan dataset yang baik. Namun bisa jauh lebih baik lagi jika data yang dikumpulkan lebih banyak atau bisa di spesifikasikan ini merupakan data peminjaman pada negara (atau negara bagian) apa. karena berbeda negara pasti berbeda lokasi dan juga berbeda sampelnya (Hal ini terlihat sebenarnya pada persentase Graduate yang mendapatkan pinjaman lebih banyak. di Amerika, jika ingin kuliah harus mengambil student_loan, beda dengan indonesia. Jika asumsinya dataset ini adalah di amerika, maka akan sangat wajar jumlah Graduate yang banyak mendapat loan)"
   ]
  }
 ],
 "metadata": {
  "kernelspec": {
   "display_name": "Python 3 (ipykernel)",
   "language": "python",
   "name": "python3"
  },
  "language_info": {
   "codemirror_mode": {
    "name": "ipython",
    "version": 3
   },
   "file_extension": ".py",
   "mimetype": "text/x-python",
   "name": "python",
   "nbconvert_exporter": "python",
   "pygments_lexer": "ipython3",
   "version": "3.9.7"
  }
 },
 "nbformat": 4,
 "nbformat_minor": 5
}
